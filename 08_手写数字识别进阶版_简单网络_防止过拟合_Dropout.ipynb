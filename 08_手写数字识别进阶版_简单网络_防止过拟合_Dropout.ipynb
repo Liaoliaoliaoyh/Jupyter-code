{
 "cells": [
  {
   "cell_type": "code",
   "execution_count": 5,
   "metadata": {},
   "outputs": [],
   "source": [
    "# 防止过拟合的方法：增加数据集、正则化项、Dropout\n",
    "# 如果连接一个神经元的所有权值为0 可以认为这个神经元不存在 减小了网络的复杂程度\n",
    "\n",
    "# Dropout：训练的时候选择部分神经元训练，测试的时候激活所有神经元\n",
    "# Dropout：缺点：训练速度变慢\n",
    "#          优点：训练集准确性 和 测试集准确性 曲线很接近\n",
    "# 何时使用：当训练数据集很小，要训练的网络很大时，训练时不用dropout过拟合现象会非常明显"
   ]
  },
  {
   "cell_type": "code",
   "execution_count": 2,
   "metadata": {},
   "outputs": [],
   "source": [
    "import tensorflow as tf\n",
    "from tensorflow.examples.tutorials.mnist import input_data"
   ]
  },
  {
   "cell_type": "code",
   "execution_count": 4,
   "metadata": {
    "scrolled": true
   },
   "outputs": [
    {
     "name": "stdout",
     "output_type": "stream",
     "text": [
      "Extracting MNIST_data\\train-images-idx3-ubyte.gz\n",
      "Extracting MNIST_data\\train-labels-idx1-ubyte.gz\n",
      "Extracting MNIST_data\\t10k-images-idx3-ubyte.gz\n",
      "Extracting MNIST_data\\t10k-labels-idx1-ubyte.gz\n"
     ]
    }
   ],
   "source": [
    "# 载入数据集\n",
    "mnist = input_data.read_data_sets('MNIST_data', one_hot=True)                                             # 把标签转换为只有0 1的热键形式\n",
    "\n",
    "# 每个批次的大小\n",
    "batch_size = 40\n",
    "n_batch = mnist.train.num_examples//batch_size                                                         # 这句看不懂 一共有多少个批次 整除\n",
    "\n",
    "# 给输入数据预留位置\n",
    "x = tf.placeholder(tf.float32, shape=[None,784])\n",
    "y = tf.placeholder(tf.float32, shape=[None,10])\n",
    "keep_prob = tf.placeholder(tf.float32)\n",
    "\n",
    "# 创建网络\n",
    "W1 = tf.Variable(tf.truncated_normal([784,2000],stddev=0.1))                                                                # 784个2000列\n",
    "b1 = tf.Variable(tf.zeros([1,2000])+0.1)                                                                                     # 2000个1列\n",
    "Wx_plus_b1 = tf.matmul(x,W1) + b1\n",
    "L1 = tf.nn.tanh(Wx_plus_b1)\n",
    "L1_drop = tf.nn.dropout(L1,keep_prob)  # 某一层神经元的输出 有百分之多少的神经元工作\n",
    "\n",
    "#W2 = tf.Variable(tf.truncated_normal([2000,2000],stddev=0.1))\n",
    "#b2 = tf.Variable(tf.zeros([1,2000])+0.1)\n",
    "#Wx_plus_b2 = tf.matmul(L1_drop,W2) + b2\n",
    "#L2 = tf.nn.tanh(Wx_plus_b2)\n",
    "#L2_drop = tf.nn.dropout(L2,keep_prob)\n",
    "\n",
    "W3 = tf.Variable(tf.truncated_normal([2000,1000],stddev=0.1))\n",
    "b3 = tf.Variable(tf.zeros([1,1000])+0.1)\n",
    "Wx_plus_b3 = tf.matmul(L2_drop,W3) + b3\n",
    "L3 = tf.nn.tanh(Wx_plus_b3)\n",
    "L3_drop = tf.nn.dropout(L3,keep_prob)\n",
    "\n",
    "W4 = tf.Variable(tf.truncated_normal([1000,10],stddev=0.1))\n",
    "b4 = tf.Variable(tf.zeros([1,10])+0.1)\n",
    "Wx_plus_b4 = tf.matmul(L3_drop,W4) + b4\n",
    "\n",
    "# 预测值\n",
    "# prediction = tf.nn.softmax(Wx_plus_b4)\n",
    "# loss = tf.reduce_mean(tf.square(y-prediction))                                                            # 二次代价函数  和 softmax 配\n",
    "# prediction = tf.nn.sigmoid(Wx_plus_b4)\n",
    "# loss = tf.reduce_mean(tf.nn.softmax_cross_entropy_with_logits(labels=y,logits=Wx_plus_b4))# softmax 交叉熵  需要sigmoid激活 标签 预测值\n",
    "prediction = tf.nn.softmax(Wx_plus_b4)\n",
    "loss = tf.reduce_mean(tf.nn.softmax_cross_entropy_with_logits(labels=y,logits=Wx_plus_b4))\n",
    "\n",
    "train = tf.train.GradientDescentOptimizer(0.1).minimize(loss)\n",
    "\n",
    "# 初始化变量\n",
    "init = tf.global_variables_initializer()\n",
    "# 定义求准确率的方法 测试一下模型的准确率\n",
    "# 这个y是标签 y的位置是数字答案 这里其实就是用预测值（prediction刚好由softmax得概率）与标签所得答案比较 得到 布尔型列表 \n",
    "correct_prediction = tf.equal(tf.argmax(y,1), tf.argmax(prediction,1))     # 返回 Ture False 求出最大的数在的位置 看它俩返回的位置一样不\n",
    "accuracy = tf.reduce_mean(tf.cast(correct_prediction,tf.float32))                                        # cast是强制类型转换 然后 求均值\n"
   ]
  },
  {
   "cell_type": "code",
   "execution_count": 5,
   "metadata": {},
   "outputs": [
    {
     "ename": "InternalError",
     "evalue": "Blas GEMM launch failed : a.shape=(40, 784), b.shape=(784, 2000), m=40, n=2000, k=784\n\t [[node MatMul_4 (defined at <ipython-input-4-02b428cbfbf7>:16) ]]\n\nCaused by op 'MatMul_4', defined at:\n  File \"G:\\Anaconda3\\Anaconda3-5.2.0\\lib\\runpy.py\", line 193, in _run_module_as_main\n    \"__main__\", mod_spec)\n  File \"G:\\Anaconda3\\Anaconda3-5.2.0\\lib\\runpy.py\", line 85, in _run_code\n    exec(code, run_globals)\n  File \"G:\\Anaconda3\\Anaconda3-5.2.0\\lib\\site-packages\\ipykernel_launcher.py\", line 16, in <module>\n    app.launch_new_instance()\n  File \"G:\\Anaconda3\\Anaconda3-5.2.0\\lib\\site-packages\\traitlets\\config\\application.py\", line 658, in launch_instance\n    app.start()\n  File \"G:\\Anaconda3\\Anaconda3-5.2.0\\lib\\site-packages\\ipykernel\\kernelapp.py\", line 563, in start\n    self.io_loop.start()\n  File \"G:\\Anaconda3\\Anaconda3-5.2.0\\lib\\site-packages\\tornado\\platform\\asyncio.py\", line 127, in start\n    self.asyncio_loop.run_forever()\n  File \"G:\\Anaconda3\\Anaconda3-5.2.0\\lib\\asyncio\\base_events.py\", line 422, in run_forever\n    self._run_once()\n  File \"G:\\Anaconda3\\Anaconda3-5.2.0\\lib\\asyncio\\base_events.py\", line 1432, in _run_once\n    handle._run()\n  File \"G:\\Anaconda3\\Anaconda3-5.2.0\\lib\\asyncio\\events.py\", line 145, in _run\n    self._callback(*self._args)\n  File \"G:\\Anaconda3\\Anaconda3-5.2.0\\lib\\site-packages\\tornado\\ioloop.py\", line 759, in _run_callback\n    ret = callback()\n  File \"G:\\Anaconda3\\Anaconda3-5.2.0\\lib\\site-packages\\tornado\\stack_context.py\", line 276, in null_wrapper\n    return fn(*args, **kwargs)\n  File \"G:\\Anaconda3\\Anaconda3-5.2.0\\lib\\site-packages\\tornado\\gen.py\", line 1199, in inner\n    self.run()\n  File \"G:\\Anaconda3\\Anaconda3-5.2.0\\lib\\site-packages\\tornado\\gen.py\", line 1113, in run\n    yielded = self.gen.send(value)\n  File \"G:\\Anaconda3\\Anaconda3-5.2.0\\lib\\site-packages\\ipykernel\\kernelbase.py\", line 361, in process_one\n    yield gen.maybe_future(dispatch(*args))\n  File \"G:\\Anaconda3\\Anaconda3-5.2.0\\lib\\site-packages\\tornado\\gen.py\", line 315, in wrapper\n    yielded = next(result)\n  File \"G:\\Anaconda3\\Anaconda3-5.2.0\\lib\\site-packages\\ipykernel\\kernelbase.py\", line 268, in dispatch_shell\n    yield gen.maybe_future(handler(stream, idents, msg))\n  File \"G:\\Anaconda3\\Anaconda3-5.2.0\\lib\\site-packages\\tornado\\gen.py\", line 315, in wrapper\n    yielded = next(result)\n  File \"G:\\Anaconda3\\Anaconda3-5.2.0\\lib\\site-packages\\ipykernel\\kernelbase.py\", line 541, in execute_request\n    user_expressions, allow_stdin,\n  File \"G:\\Anaconda3\\Anaconda3-5.2.0\\lib\\site-packages\\tornado\\gen.py\", line 315, in wrapper\n    yielded = next(result)\n  File \"G:\\Anaconda3\\Anaconda3-5.2.0\\lib\\site-packages\\ipykernel\\ipkernel.py\", line 300, in do_execute\n    res = shell.run_cell(code, store_history=store_history, silent=silent)\n  File \"G:\\Anaconda3\\Anaconda3-5.2.0\\lib\\site-packages\\ipykernel\\zmqshell.py\", line 536, in run_cell\n    return super(ZMQInteractiveShell, self).run_cell(*args, **kwargs)\n  File \"G:\\Anaconda3\\Anaconda3-5.2.0\\lib\\site-packages\\IPython\\core\\interactiveshell.py\", line 2662, in run_cell\n    raw_cell, store_history, silent, shell_futures)\n  File \"G:\\Anaconda3\\Anaconda3-5.2.0\\lib\\site-packages\\IPython\\core\\interactiveshell.py\", line 2785, in _run_cell\n    interactivity=interactivity, compiler=compiler, result=result)\n  File \"G:\\Anaconda3\\Anaconda3-5.2.0\\lib\\site-packages\\IPython\\core\\interactiveshell.py\", line 2903, in run_ast_nodes\n    if self.run_code(code, result):\n  File \"G:\\Anaconda3\\Anaconda3-5.2.0\\lib\\site-packages\\IPython\\core\\interactiveshell.py\", line 2963, in run_code\n    exec(code_obj, self.user_global_ns, self.user_ns)\n  File \"<ipython-input-4-02b428cbfbf7>\", line 16, in <module>\n    Wx_plus_b1 = tf.matmul(x,W1) + b1\n  File \"G:\\Anaconda3\\Anaconda3-5.2.0\\lib\\site-packages\\tensorflow\\python\\ops\\math_ops.py\", line 2455, in matmul\n    a, b, transpose_a=transpose_a, transpose_b=transpose_b, name=name)\n  File \"G:\\Anaconda3\\Anaconda3-5.2.0\\lib\\site-packages\\tensorflow\\python\\ops\\gen_math_ops.py\", line 5630, in mat_mul\n    name=name)\n  File \"G:\\Anaconda3\\Anaconda3-5.2.0\\lib\\site-packages\\tensorflow\\python\\framework\\op_def_library.py\", line 788, in _apply_op_helper\n    op_def=op_def)\n  File \"G:\\Anaconda3\\Anaconda3-5.2.0\\lib\\site-packages\\tensorflow\\python\\util\\deprecation.py\", line 507, in new_func\n    return func(*args, **kwargs)\n  File \"G:\\Anaconda3\\Anaconda3-5.2.0\\lib\\site-packages\\tensorflow\\python\\framework\\ops.py\", line 3300, in create_op\n    op_def=op_def)\n  File \"G:\\Anaconda3\\Anaconda3-5.2.0\\lib\\site-packages\\tensorflow\\python\\framework\\ops.py\", line 1801, in __init__\n    self._traceback = tf_stack.extract_stack()\n\nInternalError (see above for traceback): Blas GEMM launch failed : a.shape=(40, 784), b.shape=(784, 2000), m=40, n=2000, k=784\n\t [[node MatMul_4 (defined at <ipython-input-4-02b428cbfbf7>:16) ]]\n",
     "output_type": "error",
     "traceback": [
      "\u001b[1;31m---------------------------------------------------------------------------\u001b[0m",
      "\u001b[1;31mInternalError\u001b[0m                             Traceback (most recent call last)",
      "\u001b[1;32mG:\\Anaconda3\\Anaconda3-5.2.0\\lib\\site-packages\\tensorflow\\python\\client\\session.py\u001b[0m in \u001b[0;36m_do_call\u001b[1;34m(self, fn, *args)\u001b[0m\n\u001b[0;32m   1333\u001b[0m     \u001b[1;32mtry\u001b[0m\u001b[1;33m:\u001b[0m\u001b[1;33m\u001b[0m\u001b[0m\n\u001b[1;32m-> 1334\u001b[1;33m       \u001b[1;32mreturn\u001b[0m \u001b[0mfn\u001b[0m\u001b[1;33m(\u001b[0m\u001b[1;33m*\u001b[0m\u001b[0margs\u001b[0m\u001b[1;33m)\u001b[0m\u001b[1;33m\u001b[0m\u001b[0m\n\u001b[0m\u001b[0;32m   1335\u001b[0m     \u001b[1;32mexcept\u001b[0m \u001b[0merrors\u001b[0m\u001b[1;33m.\u001b[0m\u001b[0mOpError\u001b[0m \u001b[1;32mas\u001b[0m \u001b[0me\u001b[0m\u001b[1;33m:\u001b[0m\u001b[1;33m\u001b[0m\u001b[0m\n",
      "\u001b[1;32mG:\\Anaconda3\\Anaconda3-5.2.0\\lib\\site-packages\\tensorflow\\python\\client\\session.py\u001b[0m in \u001b[0;36m_run_fn\u001b[1;34m(feed_dict, fetch_list, target_list, options, run_metadata)\u001b[0m\n\u001b[0;32m   1318\u001b[0m       return self._call_tf_sessionrun(\n\u001b[1;32m-> 1319\u001b[1;33m           options, feed_dict, fetch_list, target_list, run_metadata)\n\u001b[0m\u001b[0;32m   1320\u001b[0m \u001b[1;33m\u001b[0m\u001b[0m\n",
      "\u001b[1;32mG:\\Anaconda3\\Anaconda3-5.2.0\\lib\\site-packages\\tensorflow\\python\\client\\session.py\u001b[0m in \u001b[0;36m_call_tf_sessionrun\u001b[1;34m(self, options, feed_dict, fetch_list, target_list, run_metadata)\u001b[0m\n\u001b[0;32m   1406\u001b[0m         \u001b[0mself\u001b[0m\u001b[1;33m.\u001b[0m\u001b[0m_session\u001b[0m\u001b[1;33m,\u001b[0m \u001b[0moptions\u001b[0m\u001b[1;33m,\u001b[0m \u001b[0mfeed_dict\u001b[0m\u001b[1;33m,\u001b[0m \u001b[0mfetch_list\u001b[0m\u001b[1;33m,\u001b[0m \u001b[0mtarget_list\u001b[0m\u001b[1;33m,\u001b[0m\u001b[1;33m\u001b[0m\u001b[0m\n\u001b[1;32m-> 1407\u001b[1;33m         run_metadata)\n\u001b[0m\u001b[0;32m   1408\u001b[0m \u001b[1;33m\u001b[0m\u001b[0m\n",
      "\u001b[1;31mInternalError\u001b[0m: Blas GEMM launch failed : a.shape=(40, 784), b.shape=(784, 2000), m=40, n=2000, k=784\n\t [[{{node MatMul_4}}]]",
      "\nDuring handling of the above exception, another exception occurred:\n",
      "\u001b[1;31mInternalError\u001b[0m                             Traceback (most recent call last)",
      "\u001b[1;32m<ipython-input-5-df4622d54d6f>\u001b[0m in \u001b[0;36m<module>\u001b[1;34m()\u001b[0m\n\u001b[0;32m      4\u001b[0m         \u001b[1;32mfor\u001b[0m \u001b[0mpic\u001b[0m \u001b[1;32min\u001b[0m \u001b[0mrange\u001b[0m\u001b[1;33m(\u001b[0m\u001b[0mn_batch\u001b[0m\u001b[1;33m)\u001b[0m\u001b[1;33m:\u001b[0m                                \u001b[1;31m# 每次训练 是从第n个批次里取1个数据 循环结束 所有批次中的数据被训练一次\u001b[0m\u001b[1;33m\u001b[0m\u001b[0m\n\u001b[0;32m      5\u001b[0m             \u001b[0mpic_data\u001b[0m\u001b[1;33m,\u001b[0m\u001b[0mpic_tag\u001b[0m \u001b[1;33m=\u001b[0m \u001b[0mmnist\u001b[0m\u001b[1;33m.\u001b[0m\u001b[0mtrain\u001b[0m\u001b[1;33m.\u001b[0m\u001b[0mnext_batch\u001b[0m\u001b[1;33m(\u001b[0m\u001b[0mbatch_size\u001b[0m\u001b[1;33m)\u001b[0m   \u001b[1;31m# 从train集中选取batch_size个训练数据 next_batch(我觉得这是bagging 错)\u001b[0m\u001b[1;33m\u001b[0m\u001b[0m\n\u001b[1;32m----> 6\u001b[1;33m             \u001b[0msess\u001b[0m\u001b[1;33m.\u001b[0m\u001b[0mrun\u001b[0m\u001b[1;33m(\u001b[0m\u001b[0mtrain\u001b[0m\u001b[1;33m,\u001b[0m\u001b[0mfeed_dict\u001b[0m\u001b[1;33m=\u001b[0m\u001b[1;33m{\u001b[0m\u001b[0mx\u001b[0m\u001b[1;33m:\u001b[0m\u001b[0mpic_data\u001b[0m\u001b[1;33m,\u001b[0m\u001b[0my\u001b[0m\u001b[1;33m:\u001b[0m\u001b[0mpic_tag\u001b[0m\u001b[1;33m,\u001b[0m\u001b[0mkeep_prob\u001b[0m\u001b[1;33m:\u001b[0m\u001b[1;36m0.8\u001b[0m\u001b[1;33m}\u001b[0m\u001b[1;33m)\u001b[0m                              \u001b[1;31m# 获取一个训练数据 这儿就训练一次\u001b[0m\u001b[1;33m\u001b[0m\u001b[0m\n\u001b[0m\u001b[0;32m      7\u001b[0m         \u001b[1;31m# 每一次大循环 看一下准确率\u001b[0m\u001b[1;33m\u001b[0m\u001b[1;33m\u001b[0m\u001b[0m\n\u001b[0;32m      8\u001b[0m         \u001b[1;32mif\u001b[0m \u001b[0mepoch\u001b[0m \u001b[1;33m%\u001b[0m \u001b[1;36m1\u001b[0m \u001b[1;33m==\u001b[0m \u001b[1;36m0\u001b[0m\u001b[1;33m:\u001b[0m\u001b[1;33m\u001b[0m\u001b[0m\n",
      "\u001b[1;32mG:\\Anaconda3\\Anaconda3-5.2.0\\lib\\site-packages\\tensorflow\\python\\client\\session.py\u001b[0m in \u001b[0;36mrun\u001b[1;34m(self, fetches, feed_dict, options, run_metadata)\u001b[0m\n\u001b[0;32m    927\u001b[0m     \u001b[1;32mtry\u001b[0m\u001b[1;33m:\u001b[0m\u001b[1;33m\u001b[0m\u001b[0m\n\u001b[0;32m    928\u001b[0m       result = self._run(None, fetches, feed_dict, options_ptr,\n\u001b[1;32m--> 929\u001b[1;33m                          run_metadata_ptr)\n\u001b[0m\u001b[0;32m    930\u001b[0m       \u001b[1;32mif\u001b[0m \u001b[0mrun_metadata\u001b[0m\u001b[1;33m:\u001b[0m\u001b[1;33m\u001b[0m\u001b[0m\n\u001b[0;32m    931\u001b[0m         \u001b[0mproto_data\u001b[0m \u001b[1;33m=\u001b[0m \u001b[0mtf_session\u001b[0m\u001b[1;33m.\u001b[0m\u001b[0mTF_GetBuffer\u001b[0m\u001b[1;33m(\u001b[0m\u001b[0mrun_metadata_ptr\u001b[0m\u001b[1;33m)\u001b[0m\u001b[1;33m\u001b[0m\u001b[0m\n",
      "\u001b[1;32mG:\\Anaconda3\\Anaconda3-5.2.0\\lib\\site-packages\\tensorflow\\python\\client\\session.py\u001b[0m in \u001b[0;36m_run\u001b[1;34m(self, handle, fetches, feed_dict, options, run_metadata)\u001b[0m\n\u001b[0;32m   1150\u001b[0m     \u001b[1;32mif\u001b[0m \u001b[0mfinal_fetches\u001b[0m \u001b[1;32mor\u001b[0m \u001b[0mfinal_targets\u001b[0m \u001b[1;32mor\u001b[0m \u001b[1;33m(\u001b[0m\u001b[0mhandle\u001b[0m \u001b[1;32mand\u001b[0m \u001b[0mfeed_dict_tensor\u001b[0m\u001b[1;33m)\u001b[0m\u001b[1;33m:\u001b[0m\u001b[1;33m\u001b[0m\u001b[0m\n\u001b[0;32m   1151\u001b[0m       results = self._do_run(handle, final_targets, final_fetches,\n\u001b[1;32m-> 1152\u001b[1;33m                              feed_dict_tensor, options, run_metadata)\n\u001b[0m\u001b[0;32m   1153\u001b[0m     \u001b[1;32melse\u001b[0m\u001b[1;33m:\u001b[0m\u001b[1;33m\u001b[0m\u001b[0m\n\u001b[0;32m   1154\u001b[0m       \u001b[0mresults\u001b[0m \u001b[1;33m=\u001b[0m \u001b[1;33m[\u001b[0m\u001b[1;33m]\u001b[0m\u001b[1;33m\u001b[0m\u001b[0m\n",
      "\u001b[1;32mG:\\Anaconda3\\Anaconda3-5.2.0\\lib\\site-packages\\tensorflow\\python\\client\\session.py\u001b[0m in \u001b[0;36m_do_run\u001b[1;34m(self, handle, target_list, fetch_list, feed_dict, options, run_metadata)\u001b[0m\n\u001b[0;32m   1326\u001b[0m     \u001b[1;32mif\u001b[0m \u001b[0mhandle\u001b[0m \u001b[1;32mis\u001b[0m \u001b[1;32mNone\u001b[0m\u001b[1;33m:\u001b[0m\u001b[1;33m\u001b[0m\u001b[0m\n\u001b[0;32m   1327\u001b[0m       return self._do_call(_run_fn, feeds, fetches, targets, options,\n\u001b[1;32m-> 1328\u001b[1;33m                            run_metadata)\n\u001b[0m\u001b[0;32m   1329\u001b[0m     \u001b[1;32melse\u001b[0m\u001b[1;33m:\u001b[0m\u001b[1;33m\u001b[0m\u001b[0m\n\u001b[0;32m   1330\u001b[0m       \u001b[1;32mreturn\u001b[0m \u001b[0mself\u001b[0m\u001b[1;33m.\u001b[0m\u001b[0m_do_call\u001b[0m\u001b[1;33m(\u001b[0m\u001b[0m_prun_fn\u001b[0m\u001b[1;33m,\u001b[0m \u001b[0mhandle\u001b[0m\u001b[1;33m,\u001b[0m \u001b[0mfeeds\u001b[0m\u001b[1;33m,\u001b[0m \u001b[0mfetches\u001b[0m\u001b[1;33m)\u001b[0m\u001b[1;33m\u001b[0m\u001b[0m\n",
      "\u001b[1;32mG:\\Anaconda3\\Anaconda3-5.2.0\\lib\\site-packages\\tensorflow\\python\\client\\session.py\u001b[0m in \u001b[0;36m_do_call\u001b[1;34m(self, fn, *args)\u001b[0m\n\u001b[0;32m   1346\u001b[0m           \u001b[1;32mpass\u001b[0m\u001b[1;33m\u001b[0m\u001b[0m\n\u001b[0;32m   1347\u001b[0m       \u001b[0mmessage\u001b[0m \u001b[1;33m=\u001b[0m \u001b[0merror_interpolation\u001b[0m\u001b[1;33m.\u001b[0m\u001b[0minterpolate\u001b[0m\u001b[1;33m(\u001b[0m\u001b[0mmessage\u001b[0m\u001b[1;33m,\u001b[0m \u001b[0mself\u001b[0m\u001b[1;33m.\u001b[0m\u001b[0m_graph\u001b[0m\u001b[1;33m)\u001b[0m\u001b[1;33m\u001b[0m\u001b[0m\n\u001b[1;32m-> 1348\u001b[1;33m       \u001b[1;32mraise\u001b[0m \u001b[0mtype\u001b[0m\u001b[1;33m(\u001b[0m\u001b[0me\u001b[0m\u001b[1;33m)\u001b[0m\u001b[1;33m(\u001b[0m\u001b[0mnode_def\u001b[0m\u001b[1;33m,\u001b[0m \u001b[0mop\u001b[0m\u001b[1;33m,\u001b[0m \u001b[0mmessage\u001b[0m\u001b[1;33m)\u001b[0m\u001b[1;33m\u001b[0m\u001b[0m\n\u001b[0m\u001b[0;32m   1349\u001b[0m \u001b[1;33m\u001b[0m\u001b[0m\n\u001b[0;32m   1350\u001b[0m   \u001b[1;32mdef\u001b[0m \u001b[0m_extend_graph\u001b[0m\u001b[1;33m(\u001b[0m\u001b[0mself\u001b[0m\u001b[1;33m)\u001b[0m\u001b[1;33m:\u001b[0m\u001b[1;33m\u001b[0m\u001b[0m\n",
      "\u001b[1;31mInternalError\u001b[0m: Blas GEMM launch failed : a.shape=(40, 784), b.shape=(784, 2000), m=40, n=2000, k=784\n\t [[node MatMul_4 (defined at <ipython-input-4-02b428cbfbf7>:16) ]]\n\nCaused by op 'MatMul_4', defined at:\n  File \"G:\\Anaconda3\\Anaconda3-5.2.0\\lib\\runpy.py\", line 193, in _run_module_as_main\n    \"__main__\", mod_spec)\n  File \"G:\\Anaconda3\\Anaconda3-5.2.0\\lib\\runpy.py\", line 85, in _run_code\n    exec(code, run_globals)\n  File \"G:\\Anaconda3\\Anaconda3-5.2.0\\lib\\site-packages\\ipykernel_launcher.py\", line 16, in <module>\n    app.launch_new_instance()\n  File \"G:\\Anaconda3\\Anaconda3-5.2.0\\lib\\site-packages\\traitlets\\config\\application.py\", line 658, in launch_instance\n    app.start()\n  File \"G:\\Anaconda3\\Anaconda3-5.2.0\\lib\\site-packages\\ipykernel\\kernelapp.py\", line 563, in start\n    self.io_loop.start()\n  File \"G:\\Anaconda3\\Anaconda3-5.2.0\\lib\\site-packages\\tornado\\platform\\asyncio.py\", line 127, in start\n    self.asyncio_loop.run_forever()\n  File \"G:\\Anaconda3\\Anaconda3-5.2.0\\lib\\asyncio\\base_events.py\", line 422, in run_forever\n    self._run_once()\n  File \"G:\\Anaconda3\\Anaconda3-5.2.0\\lib\\asyncio\\base_events.py\", line 1432, in _run_once\n    handle._run()\n  File \"G:\\Anaconda3\\Anaconda3-5.2.0\\lib\\asyncio\\events.py\", line 145, in _run\n    self._callback(*self._args)\n  File \"G:\\Anaconda3\\Anaconda3-5.2.0\\lib\\site-packages\\tornado\\ioloop.py\", line 759, in _run_callback\n    ret = callback()\n  File \"G:\\Anaconda3\\Anaconda3-5.2.0\\lib\\site-packages\\tornado\\stack_context.py\", line 276, in null_wrapper\n    return fn(*args, **kwargs)\n  File \"G:\\Anaconda3\\Anaconda3-5.2.0\\lib\\site-packages\\tornado\\gen.py\", line 1199, in inner\n    self.run()\n  File \"G:\\Anaconda3\\Anaconda3-5.2.0\\lib\\site-packages\\tornado\\gen.py\", line 1113, in run\n    yielded = self.gen.send(value)\n  File \"G:\\Anaconda3\\Anaconda3-5.2.0\\lib\\site-packages\\ipykernel\\kernelbase.py\", line 361, in process_one\n    yield gen.maybe_future(dispatch(*args))\n  File \"G:\\Anaconda3\\Anaconda3-5.2.0\\lib\\site-packages\\tornado\\gen.py\", line 315, in wrapper\n    yielded = next(result)\n  File \"G:\\Anaconda3\\Anaconda3-5.2.0\\lib\\site-packages\\ipykernel\\kernelbase.py\", line 268, in dispatch_shell\n    yield gen.maybe_future(handler(stream, idents, msg))\n  File \"G:\\Anaconda3\\Anaconda3-5.2.0\\lib\\site-packages\\tornado\\gen.py\", line 315, in wrapper\n    yielded = next(result)\n  File \"G:\\Anaconda3\\Anaconda3-5.2.0\\lib\\site-packages\\ipykernel\\kernelbase.py\", line 541, in execute_request\n    user_expressions, allow_stdin,\n  File \"G:\\Anaconda3\\Anaconda3-5.2.0\\lib\\site-packages\\tornado\\gen.py\", line 315, in wrapper\n    yielded = next(result)\n  File \"G:\\Anaconda3\\Anaconda3-5.2.0\\lib\\site-packages\\ipykernel\\ipkernel.py\", line 300, in do_execute\n    res = shell.run_cell(code, store_history=store_history, silent=silent)\n  File \"G:\\Anaconda3\\Anaconda3-5.2.0\\lib\\site-packages\\ipykernel\\zmqshell.py\", line 536, in run_cell\n    return super(ZMQInteractiveShell, self).run_cell(*args, **kwargs)\n  File \"G:\\Anaconda3\\Anaconda3-5.2.0\\lib\\site-packages\\IPython\\core\\interactiveshell.py\", line 2662, in run_cell\n    raw_cell, store_history, silent, shell_futures)\n  File \"G:\\Anaconda3\\Anaconda3-5.2.0\\lib\\site-packages\\IPython\\core\\interactiveshell.py\", line 2785, in _run_cell\n    interactivity=interactivity, compiler=compiler, result=result)\n  File \"G:\\Anaconda3\\Anaconda3-5.2.0\\lib\\site-packages\\IPython\\core\\interactiveshell.py\", line 2903, in run_ast_nodes\n    if self.run_code(code, result):\n  File \"G:\\Anaconda3\\Anaconda3-5.2.0\\lib\\site-packages\\IPython\\core\\interactiveshell.py\", line 2963, in run_code\n    exec(code_obj, self.user_global_ns, self.user_ns)\n  File \"<ipython-input-4-02b428cbfbf7>\", line 16, in <module>\n    Wx_plus_b1 = tf.matmul(x,W1) + b1\n  File \"G:\\Anaconda3\\Anaconda3-5.2.0\\lib\\site-packages\\tensorflow\\python\\ops\\math_ops.py\", line 2455, in matmul\n    a, b, transpose_a=transpose_a, transpose_b=transpose_b, name=name)\n  File \"G:\\Anaconda3\\Anaconda3-5.2.0\\lib\\site-packages\\tensorflow\\python\\ops\\gen_math_ops.py\", line 5630, in mat_mul\n    name=name)\n  File \"G:\\Anaconda3\\Anaconda3-5.2.0\\lib\\site-packages\\tensorflow\\python\\framework\\op_def_library.py\", line 788, in _apply_op_helper\n    op_def=op_def)\n  File \"G:\\Anaconda3\\Anaconda3-5.2.0\\lib\\site-packages\\tensorflow\\python\\util\\deprecation.py\", line 507, in new_func\n    return func(*args, **kwargs)\n  File \"G:\\Anaconda3\\Anaconda3-5.2.0\\lib\\site-packages\\tensorflow\\python\\framework\\ops.py\", line 3300, in create_op\n    op_def=op_def)\n  File \"G:\\Anaconda3\\Anaconda3-5.2.0\\lib\\site-packages\\tensorflow\\python\\framework\\ops.py\", line 1801, in __init__\n    self._traceback = tf_stack.extract_stack()\n\nInternalError (see above for traceback): Blas GEMM launch failed : a.shape=(40, 784), b.shape=(784, 2000), m=40, n=2000, k=784\n\t [[node MatMul_4 (defined at <ipython-input-4-02b428cbfbf7>:16) ]]\n"
     ]
    }
   ],
   "source": [
    "with tf.Session() as sess:\n",
    "    sess.run(init)\n",
    "    for epoch in range(5):                                                                                              # 两层循环是训练\n",
    "        for pic in range(n_batch):                                # 每次训练 是从第n个批次里取1个数据 循环结束 所有批次中的数据被训练一次\n",
    "            pic_data,pic_tag = mnist.train.next_batch(batch_size)   # 从train集中选取batch_size个训练数据 next_batch(我觉得这是bagging 错)\n",
    "            sess.run(train,feed_dict={x:pic_data,y:pic_tag,keep_prob:0.8})                              # 获取一个训练数据 这儿就训练一次   \n",
    "        # 每一次大循环 看一下准确率\n",
    "        if epoch % 1 == 0:\n",
    "            train_accuracy_rate = sess.run(accuracy,feed_dict={x:mnist.train.images,y:mnist.train.labels,keep_prob:1.0})   # 训练集正确率\n",
    "            test_accuracy_rate = sess.run(accuracy,feed_dict={x:mnist.test.images,y:mnist.test.labels,keep_prob:1.0})      # 测试集正确率\n",
    "            print('第' + str(epoch+1) + '次，train准确率 ' + str(train_accuracy_rate) + '  test准确率 ' + str(test_accuracy_rate))"
   ]
  },
  {
   "cell_type": "code",
   "execution_count": null,
   "metadata": {},
   "outputs": [],
   "source": [
    "prediction = tf.nn.softmax(Wx_plus_b4)   # keep_prob:1.0\n",
    "loss = tf.reduce_mean(tf.nn.softmax_cross_entropy_with_logits(labels=y,logits=Wx_plus_b4))\n",
    "\n",
    "第1次，train准确率 0.96378183\n",
    "第1次， test准确率 0.9536\n",
    "第2次，train准确率 0.9799455\n",
    "第2次， test准确率 0.9634\n",
    "第3次，train准确率 0.9934\n",
    "第3次， test准确率 0.9735\n",
    "第4次，train准确率 0.99883634\n",
    "第4次， test准确率 0.9773\n",
    "第5次，train准确率 1.0\n",
    "第5次， test准确率 0.9799"
   ]
  },
  {
   "cell_type": "code",
   "execution_count": null,
   "metadata": {},
   "outputs": [],
   "source": [
    "prediction = tf.nn.softmax(Wx_plus_b4)   # keep_prob:1.0\n",
    "loss = tf.reduce_mean(tf.nn.softmax_cross_entropy_with_logits(labels=y,logits=prediction))\n",
    "\n",
    "第1次，train准确率 0.9602727\n",
    "第1次， test准确率 0.9491\n",
    "第2次，train准确率 0.9775818\n",
    "第2次， test准确率 0.9618\n",
    "第3次，train准确率 0.9843636\n",
    "第3次， test准确率 0.9664\n",
    "第4次，train准确率 0.98736364\n",
    "第4次， test准确率 0.9679\n",
    "第5次，train准确率 0.98983634\n",
    "第5次， test准确率 0.9696"
   ]
  },
  {
   "cell_type": "code",
   "execution_count": null,
   "metadata": {},
   "outputs": [],
   "source": [
    "prediction = tf.nn.sigmoid(Wx_plus_b4)   # keep_prob:1.0\n",
    "loss = tf.reduce_mean(tf.nn.softmax_cross_entropy_with_logits(labels=y,logits=prediction))\n",
    "\n",
    "第1次，train准确率 0.95934546\n",
    "第1次， test准确率 0.948\n",
    "第2次，train准确率 0.97376364\n",
    "第2次， test准确率 0.9589\n",
    "第3次，train准确率 0.98032725\n",
    "第3次， test准确率 0.963\n",
    "第4次，train准确率 0.9844364\n",
    "第4次， test准确率 0.9672\n",
    "第5次，train准确率 0.9866545\n",
    "第5次， test准确率 0.9674"
   ]
  },
  {
   "cell_type": "code",
   "execution_count": null,
   "metadata": {},
   "outputs": [],
   "source": [
    "prediction = tf.nn.sigmoid(Wx_plus_b4)   # keep_prob:1.0\n",
    "loss = tf.reduce_mean(tf.nn.softmax_cross_entropy_with_logits(labels=y,logits=Wx_plus_b4))\n",
    "\n",
    "第1次，train准确率 0.97049093\n",
    "第1次， test准确率 0.9584\n",
    "第2次，train准确率 0.9866\n",
    "第2次， test准确率 0.9682\n",
    "第3次，train准确率 0.99347275\n",
    "第3次， test准确率 0.9736\n",
    "第4次，train准确率 0.99945456\n",
    "第4次， test准确率 0.9789\n",
    "第5次，train准确率 1.0\n",
    "第5次， test准确率 0.9795"
   ]
  }
 ],
 "metadata": {
  "kernelspec": {
   "display_name": "Python 3",
   "language": "python",
   "name": "python3"
  },
  "language_info": {
   "codemirror_mode": {
    "name": "ipython",
    "version": 3
   },
   "file_extension": ".py",
   "mimetype": "text/x-python",
   "name": "python",
   "nbconvert_exporter": "python",
   "pygments_lexer": "ipython3",
   "version": "3.6.5"
  }
 },
 "nbformat": 4,
 "nbformat_minor": 2
}
