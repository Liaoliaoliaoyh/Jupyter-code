{
 "cells": [
  {
   "cell_type": "code",
   "execution_count": 1,
   "metadata": {},
   "outputs": [],
   "source": [
    "import tensorflow as tf\n",
    "import numpy as np\n",
    "# import matplotlib as plt\n",
    "import matplotlib.pyplot as plt"
   ]
  },
  {
   "cell_type": "code",
   "execution_count": 4,
   "metadata": {},
   "outputs": [
    {
     "data": {
      "image/png": "[encoded data removed]",
      "text/plain": [
       "<Figure size 432x288 with 1 Axes>"
      ]
     },
     "metadata": {},
     "output_type": "display_data"
    }
   ],
   "source": [
    "# 样本数据\n",
    "x_data = np.linspace(-0.5,0.5,200)[:,np.newaxis]             # 定义形状 200行 不确    返回指定区间内均匀分布的数字200个  np.newaxis是维度\n",
    "#noise = 0.0\n",
    "noise = np.random.normal(0,0.02,x_data.shape)                                      # 噪声 随机取 正态分布 形如x_data 从正态分布中返回几个\n",
    "y_data = np.square(x_data) + noise\n",
    "\n",
    "# 构造模型\n",
    "x = tf.placeholder(tf.float32,[None,1])                                                                         # 定义形状 行不确定 一列\n",
    "y = tf.placeholder(tf.float32,[None,1])\n",
    "\n",
    "# 构建神经网络 考虑到 输入输出都是一个个的点 所以输入输出层都是一个神经元 中间层自定义 这里是10个神经元\n",
    "# 定义中间层\n",
    "Weights_L1 = tf.Variable(tf.random_normal([1,10]))                                                               # 返回一个形如shape张量\n",
    "biases_L1 = tf.Variable(tf.zeros([1,10]))\n",
    "Wx_plus_b_L1 = tf.matmul(x,Weights_L1) + biases_L1\n",
    "L1 = tf.nn.tanh(Wx_plus_b_L1)\n",
    "# 定义输出层\n",
    "Weights_L2 = tf.Variable(tf.random_normal([10,1]))\n",
    "biases_L2 = tf.Variable(tf.zeros([1,1]))\n",
    "Wx_plus_b_L2 = tf.matmul(L1,Weights_L2) + biases_L2\n",
    "prediction = tf.nn.tanh(Wx_plus_b_L2)\n",
    "\n",
    "# 准备拟合\n",
    "loss = tf.reduce_mean(tf.square(y_data-prediction))                                             # 二次代价函数 = 样本值 - 预测值 的平方 求平均\n",
    "train_step = tf.train.GradientDescentOptimizer(0.1).minimize(loss) \n",
    "# optimizer = tf.train.GradientDescentOptimizer(0.01)                                           # 设置一个优化器 用梯度下降法 学习率为0.2\n",
    "# train = optimizer.minimize(loss)                                                                              # 用优化器 最小化代价函数 \n",
    "\n",
    "# 初始化变量\n",
    "init = tf.global_variables_initializer()\n",
    "\n",
    "# 定义会话 启动默认图 跑起来\n",
    "with tf.Session() as sess:\n",
    "    sess.run(init)\n",
    "    # 训练\n",
    "    for _ in range(2000):\n",
    "        sess.run(train_step,feed_dict={x:x_data,y:y_data})\n",
    "\n",
    "    # 预测\n",
    "    prediction_value = sess.run(prediction,feed_dict={x:x_data})\n",
    "    \n",
    "    # 画图\n",
    "    plt.figure()\n",
    "    plt.scatter(x_data,y_data)  # 散点图\n",
    "    plt.plot(x_data,prediction_value,'r-',lw=5)\n",
    "    plt.show()"
   ]
  },
  {
   "cell_type": "code",
   "execution_count": null,
   "metadata": {},
   "outputs": [],
   "source": []
  }
 ],
 "metadata": {
  "kernelspec": {
   "display_name": "Python 3",
   "language": "python",
   "name": "python3"
  },
  "language_info": {
   "codemirror_mode": {
    "name": "ipython",
    "version": 3
   },
   "file_extension": ".py",
   "mimetype": "text/x-python",
   "name": "python",
   "nbconvert_exporter": "python",
   "pygments_lexer": "ipython3",
   "version": "3.6.5"
  }
 },
 "nbformat": 4,
 "nbformat_minor": 2
}
