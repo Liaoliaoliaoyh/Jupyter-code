{
 "cells": [
  {
   "cell_type": "code",
   "execution_count": 2,
   "metadata": {},
   "outputs": [],
   "source": [
    "import tensorflow as tf"
   ]
  },
  {
   "cell_type": "code",
   "execution_count": 4,
   "metadata": {},
   "outputs": [],
   "source": [
    "x = tf.Variable([1,2])                                  # 创建一个变量 如果不初始化会报错：Attempting to use uninitialized value Variable\n",
    "a = tf.constant([3,10])                                                                                                 # 这当然是常量喽"
   ]
  },
  {
   "cell_type": "code",
   "execution_count": 5,
   "metadata": {},
   "outputs": [],
   "source": [
    "sub = tf.subtract(x,a)"
   ]
  },
  {
   "cell_type": "code",
   "execution_count": 6,
   "metadata": {},
   "outputs": [],
   "source": [
    "add = tf.add(x,sub)"
   ]
  },
  {
   "cell_type": "code",
   "execution_count": 7,
   "metadata": {},
   "outputs": [],
   "source": [
    "init = tf.global_variables_initializer()                                             # 运行前 如果之前有变量 就要加这一句 初始化所有变量"
   ]
  },
  {
   "cell_type": "code",
   "execution_count": 8,
   "metadata": {
    "scrolled": false
   },
   "outputs": [
    {
     "name": "stdout",
     "output_type": "stream",
     "text": [
      "[-2 -8]\n",
      "[-1 -6]\n"
     ]
    }
   ],
   "source": [
    "with tf.Session() as sess:\n",
    "    sess.run(init)                                                                             # 配合之前初始化变量那一句 运行初始化变量\n",
    "    print(sess.run(sub))\n",
    "    print(sess.run(add))"
   ]
  },
  {
   "cell_type": "code",
   "execution_count": 7,
   "metadata": {},
   "outputs": [
    {
     "name": "stdout",
     "output_type": "stream",
     "text": [
      "0\n",
      "1\n",
      "2\n",
      "3\n",
      "4\n",
      "5\n"
     ]
    }
   ],
   "source": [
    "state = tf.Variable(0,name='counter')                                                               # 创建一个变量 初始化为0 名为counter\n",
    "new_value = tf.add(state,1)                                                                                                     # 加一op\n",
    "update = tf.assign(state,new_value)                                                                    # 赋值op  在会话中赋值 要用assign\n",
    "init = tf.global_variables_initializer()  \n",
    "with tf.Session() as sess:\n",
    "    sess.run(init)                                                                             # 配合之前初始化变量那一句 运行初始化变量\n",
    "    print(sess.run(state))\n",
    "    for _ in range(5):\n",
    "        sess.run(update)\n",
    "        print(sess.run(state))"
   ]
  },
  {
   "cell_type": "code",
   "execution_count": 31,
   "metadata": {},
   "outputs": [
    {
     "name": "stdout",
     "output_type": "stream",
     "text": [
      "[[[ 0.  1.]\n",
      "  [ 2.  3.]\n",
      "  [ 4.  5.]\n",
      "  [ 6.  7.]\n",
      "  [ 8.  9.]\n",
      "  [10. 11.]\n",
      "  [12. 13.]\n",
      "  [14. 15.]\n",
      "  [16. 17.]\n",
      "  [18. 19.]\n",
      "  [20. 21.]\n",
      "  [22. 23.]\n",
      "  [24. 25.]\n",
      "  [26. 27.]\n",
      "  [28. 29.]\n",
      "  [30. 31.]]]\n"
     ]
    }
   ],
   "source": [
    "img = tf.constant([ \n",
    "    [[0.0, 1.0],[2.0, 3.0],[4.0, 5.0],[6.0, 7.0],\n",
    "    [8.0, 9.0],[10.0, 11.0],[12.0, 13.0],[14.0, 15.0],\n",
    "    [16.0, 17.0],[18.0, 19.0],[20.0, 21.0],[22.0, 23.0],\n",
    "    [24.0, 25.0],[26.0, 27.0],[28.0, 29.0],[30.0, 31.0]]\n",
    "])\n",
    "# img = tf.reshape(img,[1,4,4,2])\n",
    "with tf.Session() as sess:                                                                            # 配合之前初始化变量那一句 运行初始化变量\n",
    "    print(sess.run(img))"
   ]
  },
  {
   "cell_type": "code",
   "execution_count": 41,
   "metadata": {},
   "outputs": [
    {
     "name": "stdout",
     "output_type": "stream",
     "text": [
      "[[[[ 0.  1.]\n",
      "   [ 2.  3.]\n",
      "   [ 4.  5.]\n",
      "   [ 6.  7.]]\n",
      "\n",
      "  [[ 8.  9.]\n",
      "   [10. 11.]\n",
      "   [12. 13.]\n",
      "   [14. 15.]]\n",
      "\n",
      "  [[16. 17.]\n",
      "   [18. 19.]\n",
      "   [20. 21.]\n",
      "   [22. 23.]]\n",
      "\n",
      "  [[24. 25.]\n",
      "   [26. 27.]\n",
      "   [28. 29.]\n",
      "   [30. 31.]]]]\n",
      "\n",
      "\n",
      "\n",
      "[[[[10. 11.]\n",
      "   [14. 15.]]\n",
      "\n",
      "  [[26. 27.]\n",
      "   [30. 31.]]]]\n"
     ]
    }
   ],
   "source": [
    "img = tf.constant([ \n",
    "    [[0.0, 1.0],[2.0, 3.0],[4.0, 5.0],[6.0, 7.0]],\n",
    "    [[8.0, 9.0],[10.0, 11.0],[12.0, 13.0],[14.0, 15.0]],\n",
    "    [[16.0, 17.0],[18.0, 19.0],[20.0, 21.0],[22.0, 23.0]],\n",
    "    [[24.0, 25.0],[26.0, 27.0],[28.0, 29.0],[30.0, 31.0]]\n",
    "])\n",
    "img = tf.reshape(img,[1,4,4,2])\n",
    "pooling = tf.nn.max_pool(img,[1,2,2,1],[1,2,2,1],padding = 'SAME')\n",
    "with tf.Session() as sess:                                                                            # 配合之前初始化变量那一句 运行初始化变量\n",
    "    print(sess.run(img))\n",
    "    print('\\n\\n')\n",
    "    print(sess.run(pooling))"
   ]
  },
  {
   "cell_type": "code",
   "execution_count": 22,
   "metadata": {},
   "outputs": [],
   "source": [
    "a = tf.constant([3,10])   "
   ]
  },
  {
   "cell_type": "code",
   "execution_count": null,
   "metadata": {},
   "outputs": [],
   "source": []
  }
 ],
 "metadata": {
  "kernelspec": {
   "display_name": "Python 3",
   "language": "python",
   "name": "python3"
  },
  "language_info": {
   "codemirror_mode": {
    "name": "ipython",
    "version": 3
   },
   "file_extension": ".py",
   "mimetype": "text/x-python",
   "name": "python",
   "nbconvert_exporter": "python",
   "pygments_lexer": "ipython3",
   "version": "3.6.5"
  }
 },
 "nbformat": 4,
 "nbformat_minor": 2
}
