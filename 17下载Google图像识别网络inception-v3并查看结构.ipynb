{
 "cells": [
  {
   "cell_type": "code",
   "execution_count": 1,
   "metadata": {},
   "outputs": [],
   "source": [
    "# http://www.pianshen.com/article/66383398/  论文及翻译\n",
    "import tensorflow as tf\n",
    "import os                            # 实现操作系统的许多功能 用于文件管理\n",
    "import tarfile                       # 文件打包压缩解包解压缩\n",
    "import requests"
   ]
  },
  {
   "cell_type": "code",
   "execution_count": 2,
   "metadata": {
    "scrolled": false
   },
   "outputs": [
    {
     "name": "stdout",
     "output_type": "stream",
     "text": [
      "已下载:  inception-2015-12-05.tgz\n",
      "解压完成\n",
      "等会儿模型结构存放在:  inception_log\n"
     ]
    }
   ],
   "source": [
    "# inception模型下载地址 这个inception-v3模型的参数已经训练好了 下载来用就行\n",
    "inception_pretrain_model_url = 'http://download.tensorflow.org/models/image/imagenet/inception-2015-12-05.tgz'\n",
    "\n",
    "# 模型存放地址 如果这个文件夹不存在 就先创建这个文件夹\n",
    "inception_pretrain_model_dir = 'inception_model'\n",
    "if not os.path.exists(inception_pretrain_model_dir):\n",
    "    os.makedirs(inception_pretrain_model_dir)\n",
    "    \n",
    "# 获取文件名以及文件路径\n",
    "# 拆分字符串：str.split(str='',num=string.count(str))[n] \n",
    "# 字符串str、以''中的符号为分隔符、分割num次、取第[n]个分片 [-1]最后一个就是 inception-2015-12-05.tgz\n",
    "filename = inception_pretrain_model_url.split('/')[-1]\n",
    "# os.path.join()路径拼接文件路径\n",
    "filepath = os.path.join(inception_pretrain_model_dir,filename)# =inception_model\\\\inception-2015-12-05.tgz\n",
    "\n",
    "#下载模型\n",
    "if os.path.exists(filepath):\n",
    "    print('已下载: ',filename)\n",
    "else:\n",
    "    print('下载: ',filename)\n",
    "# 默认情况下，当进行网络请求后，响应体会立即被下载。可以通过 stream 参数覆盖这个行为，推迟下载响应体直到访问 Response.content 属性\n",
    "# 此时仅有响应头被下载下来了，连接保持打开状态，因此允许我们根据条件获取内容\n",
    "# http://www.cnblogs.com/nul1/p/9172068.html 这个文档讲的很清楚 这一段下载就是为了防止大文件占用内存 这样子分块下载就OK了\n",
    "    r = requests.get(inception_pretrain_model_url,stream = True)\n",
    "    with open(filepath,'wb') as f:\n",
    "        for chunk in r.iter_content(chunk_size = 1024):\n",
    "            if chunk:\n",
    "                f.write(chunk)\n",
    "    print('finish: ',filename)\n",
    "\n",
    "# 解压文件  https://cloud.tencent.com/developer/section/1366828\n",
    "tarfile.open(filepath,'r:gz').extractall(inception_pretrain_model_dir) # 将存档中的所有成员提取到当前工作目录或目录路径\n",
    "print('解压完成')\n",
    "\n",
    "# 等会儿模型结构的存放文件\n",
    "log_dir = 'inception_log'\n",
    "print('等会儿模型结构存放在: ',log_dir)\n",
    "if not os.path.exists(log_dir):\n",
    "    os.makedirs(log_dir)\n",
    "    \n",
    "# classify_image_graph_def.pb为google训练好的模型 = inception_graph_def_file\n",
    "inception_graph_def_file = os.path.join(inception_pretrain_model_dir,'classify_image_graph_def.pb')\n",
    "\n",
    "with tf.Session() as sess:\n",
    "    # 从pb文件中调用   https://blog.csdn.net/zj360202/article/details/78539464\n",
    "    with tf.gfile.FastGFile(inception_graph_def_file, 'rb') as f:\n",
    "    # tf.gfile.FastGFile(path,decodestyle) \n",
    "    # 函数功能：实现对图片的读取。 \n",
    "    # 函数参数：(1)path：图片所在路径 (2)decodestyle:图片的解码方式。(‘r’:UTF-8编码; ‘rb’:非UTF-8编码)\n",
    "        \n",
    "        # 声明一个默认的图，然后定义张量内容，在后面可以调用或保存\n",
    "        graph_def = tf.GraphDef()\n",
    "        # tf.Graph()可以1.通过tensorboard用图形化界面展示出来流程结构 2.可以整合一段代码为一个整体存在于一个图中\n",
    "\n",
    "        graph_def.ParseFromString(f.read())\n",
    "        tf.import_graph_def(graph_def,name = '')\n",
    "    # 保存图的结构 路径是log_dir = 'inception_log'\n",
    "    writer = tf.summary.FileWriter(log_dir,sess.graph)\n",
    "    writer.close()\n"
   ]
  },
  {
   "cell_type": "code",
   "execution_count": 3,
   "metadata": {},
   "outputs": [],
   "source": [
    "# 用tensorboard打开路径log_dir = 'inception_log'下的图：\n",
    "# tensorboard --logdir=G:\\Anaconda3\\My_Jupyter\\inception_log"
   ]
  }
 ],
 "metadata": {
  "kernelspec": {
   "display_name": "Python 3",
   "language": "python",
   "name": "python3"
  },
  "language_info": {
   "codemirror_mode": {
    "name": "ipython",
    "version": 3
   },
   "file_extension": ".py",
   "mimetype": "text/x-python",
   "name": "python",
   "nbconvert_exporter": "python",
   "pygments_lexer": "ipython3",
   "version": "3.6.5"
  }
 },
 "nbformat": 4,
 "nbformat_minor": 2
}
