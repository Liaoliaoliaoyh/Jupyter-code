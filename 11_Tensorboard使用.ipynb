{
 "cells": [
  {
   "cell_type": "code",
   "execution_count": 3,
   "metadata": {},
   "outputs": [],
   "source": [
    "# 第五课 20min开始看\n",
    "# Tensorflow是基于Graph计算的，我们用上面的一层层叠加的方式建立起来的网络，全部构建在tf的默认graph中\n",
    "# https://www.cnblogs.com/wyh1993/p/1f142f2d7daab0a8d74907f1d44effe7.html\n",
    "# tensorboard为tensorflow提供了可视化。tensorboard是通过读取events files来显示的，events file则包含在图计算时生成的summary data。\n",
    "# http://www.360doc.com/content/17/0414/13/10408243_645540404.shtml"
   ]
  },
  {
   "cell_type": "code",
   "execution_count": 4,
   "metadata": {},
   "outputs": [],
   "source": [
    "# 定义命名空间： with tf.name_scope('iiiiinput'):\n",
    "# 把图导出到路径下： writer = tf.summary.FileWriter('路径',sess.graph)\n",
    "# 或 修改好代码之后\n",
    "# kernel --> restart and run all\n",
    "# win+R --> 跳到路径所在磁盘 g:\n",
    "# tensorboard --logdir=G:\\Anaconda3\\My_Jupyter\\logdir\n",
    "# http://PC-20181031UPGR:6006 刷新"
   ]
  },
  {
   "cell_type": "code",
   "execution_count": 5,
   "metadata": {},
   "outputs": [],
   "source": [
    "# tf.summary()的各类方法:http://www.cnblogs.com/lyc-seu/p/8647792.html\n",
    "# 就是tenserboard里用的\n",
    "# tf.summary.scalar(name,tensor,collections=None,family=None)\n",
    "# 用来显示标量信息  返回值：一个字符串类型的标量张量，包含一个Summary\n",
    "# 输出一个包含单个标量值的Summary协议缓冲区。"
   ]
  },
  {
   "cell_type": "code",
   "execution_count": 6,
   "metadata": {},
   "outputs": [],
   "source": [
    "import tensorflow as tf\n",
    "from tensorflow.examples.tutorials.mnist import input_data"
   ]
  },
  {
   "cell_type": "code",
   "execution_count": 8,
   "metadata": {},
   "outputs": [
    {
     "name": "stdout",
     "output_type": "stream",
     "text": [
      "Extracting MNIST_data\\train-images-idx3-ubyte.gz\n",
      "Extracting MNIST_data\\train-labels-idx1-ubyte.gz\n",
      "Extracting MNIST_data\\t10k-images-idx3-ubyte.gz\n",
      "Extracting MNIST_data\\t10k-labels-idx1-ubyte.gz\n"
     ]
    }
   ],
   "source": [
    "# 载入数据集\n",
    "mnist = input_data.read_data_sets('MNIST_data', one_hot = True)\n",
    "# 每个批次的大小\n",
    "batch_size = 50\n",
    "n_batch = mnist.train.num_examples//batch_size\n",
    "\n",
    "# 参数概要\n",
    "def variable_summaries(var):\n",
    "    with tf.name_scope('summaries'):\n",
    "        mean = tf.reduce_mean(var)\n",
    "        tf.summary.scalar('mean',mean) # 平均值\n",
    "        with tf.name_scope('stddev'):\n",
    "            stddev = tf.sqrt(tf.reduce_mean(tf.square(var - mean)))\n",
    "        tf.summary.scalar('stddev',stddev)             # 标准差\n",
    "        tf.summary.scalar('max',tf.reduce_max(var))    # 最大值\n",
    "        tf.summary.scalar('min',tf.reduce_min(var))    # 最小值\n",
    "        tf.summary.histogram('histogram',var)          # 直方图\n",
    "            \n",
    "# 要可视化一个结构 首先要定义一个命名空间\n",
    "with tf.name_scope('input'):\n",
    "# 把输入数据放入input空间\n",
    "    x = tf.placeholder(tf.float32, shape=[None, 784],name = 'x-input')\n",
    "    y = tf.placeholder(tf.float32, shape=[None, 10],name = 'y-input')\n",
    "with tf.name_scope('layer'):\n",
    "    with tf.name_scope('weight'):\n",
    "        W = tf.Variable(tf.zeros([784, 10]), name = 'W')\n",
    "        variable_summaries(W)\n",
    "    with tf.name_scope('biases'):\n",
    "        b = tf.Variable(tf.zeros([10]), name = 'b')\n",
    "        variable_summaries(b)\n",
    "    with tf.name_scope('Wx_plus_b'):\n",
    "        Wx_plus_b = tf.matmul(x,W) + b\n",
    "    with tf.name_scope('softmax'):\n",
    "        prediction = tf.nn.softmax(Wx_plus_b)\n",
    "        \n",
    "with tf.name_scope('loss'):\n",
    "    loss = tf.reduce_mean(tf.nn.softmax_cross_entropy_with_logits(labels = y,logits = Wx_plus_b))\n",
    "    tf.summary.scalar('loss',loss)  # 数据比较多的时候 才需要调用 variable_summaries(var)这个函数 这里 loss只有一个值\n",
    "\n",
    "with tf.name_scope('train'):  \n",
    "#     train = tf.train.GradientDescentOptimizer(0.1).minimize(loss) \n",
    "    train = tf.train.AdamOptimizer(0.001).minimize(loss)\n",
    "\n",
    "# init有个默认的命名空间 就叫init\n",
    "init = tf.global_variables_initializer()\n",
    "\n",
    "with tf.name_scope('accuracy'):\n",
    "    with tf.name_scope('correct_prediction'):\n",
    "        correct_prediction = tf.equal(tf.argmax(y, 1), tf.argmax(prediction, 1))# 返回Ture False 求出最大的数在的位置看它俩返回的位置一样不\n",
    "    with tf.name_scope('accuracy'):\n",
    "        accuracy = tf.reduce_mean(tf.cast(correct_prediction,tf.float32))    \n",
    "        tf.summary.scalar('accuracy',accuracy)                                                    # 算一下准确率的变化\n",
    "        \n",
    "# 合并所有的summary 也就是说 合并所有之前监测的东西\n",
    "merged = tf.summary.merge_all()                            # 引起血案的地方 jupyter notebook 每次变量不清理 所以每次merge_all前需要restart\n",
    "\n",
    "\n",
    "# 跑起来\n",
    "# with tf.Session() as sess:\n",
    "#     sess.run(init)\n",
    "#     writer = tf.summary.FileWriter('logdir',sess.graph)\n",
    "#     for epoch in range(51):                                                                                                # 总共训练21次\n",
    "#         for pic in range(n_batch):                                # 每次训练 是从第n个批次里取1个数据 循环结束 所有批次中的数据被训练一次\n",
    "#             pic_data,pic_tag = mnist.train.next_batch(batch_size)   # 从train集中选取batch_size个训练数据 next_batch(我觉得这是bagging 错)\n",
    "#             summary,_ =  sess.run([merged,train],feed_dict={x:pic_data,y:pic_tag}) # 训练一次 统计一次  merged会有一个返回值 存在summary里\n",
    "#         writer.add_summary(summary,epoch)\n",
    "#     # 每一次大循环 看一下准确率\n",
    "#         if epoch % 5 == 0:\n",
    "#             accuracy_rate = sess.run(accuracy,feed_dict={x:mnist.test.images,y:mnist.test.labels})\n",
    "#             print('第' + str(epoch) + '次大循环，测试集准确率为' + str(accuracy_rate))"
   ]
  },
  {
   "cell_type": "code",
   "execution_count": 9,
   "metadata": {},
   "outputs": [
    {
     "name": "stdout",
     "output_type": "stream",
     "text": [
      "Extracting MNIST_data\\train-images-idx3-ubyte.gz\n",
      "Extracting MNIST_data\\train-labels-idx1-ubyte.gz\n",
      "Extracting MNIST_data\\t10k-images-idx3-ubyte.gz\n",
      "Extracting MNIST_data\\t10k-labels-idx1-ubyte.gz\n"
     ]
    }
   ],
   "source": [
    "mnist = input_data.read_data_sets('MNIST_data', one_hot = True)\n",
    "pic_data,pic_tag = mnist.train.next_batch(10)"
   ]
  },
  {
   "cell_type": "code",
   "execution_count": 11,
   "metadata": {},
   "outputs": [
    {
     "ename": "InvalidArgumentError",
     "evalue": "You must feed a value for placeholder tensor 'input/x-input' with dtype float and shape [?,784]\n\t [[node input/x-input (defined at <ipython-input-7-4f0ab4fa96c5>:22) ]]\n\t [[node layer/weight/summaries/stddev/Sqrt (defined at <ipython-input-7-4f0ab4fa96c5>:13) ]]\n\nCaused by op 'input/x-input', defined at:\n  File \"G:\\Anaconda3\\Anaconda3-5.2.0\\lib\\runpy.py\", line 193, in _run_module_as_main\n    \"__main__\", mod_spec)\n  File \"G:\\Anaconda3\\Anaconda3-5.2.0\\lib\\runpy.py\", line 85, in _run_code\n    exec(code, run_globals)\n  File \"G:\\Anaconda3\\Anaconda3-5.2.0\\lib\\site-packages\\ipykernel_launcher.py\", line 16, in <module>\n    app.launch_new_instance()\n  File \"G:\\Anaconda3\\Anaconda3-5.2.0\\lib\\site-packages\\traitlets\\config\\application.py\", line 658, in launch_instance\n    app.start()\n  File \"G:\\Anaconda3\\Anaconda3-5.2.0\\lib\\site-packages\\ipykernel\\kernelapp.py\", line 563, in start\n    self.io_loop.start()\n  File \"G:\\Anaconda3\\Anaconda3-5.2.0\\lib\\site-packages\\tornado\\platform\\asyncio.py\", line 127, in start\n    self.asyncio_loop.run_forever()\n  File \"G:\\Anaconda3\\Anaconda3-5.2.0\\lib\\asyncio\\base_events.py\", line 422, in run_forever\n    self._run_once()\n  File \"G:\\Anaconda3\\Anaconda3-5.2.0\\lib\\asyncio\\base_events.py\", line 1432, in _run_once\n    handle._run()\n  File \"G:\\Anaconda3\\Anaconda3-5.2.0\\lib\\asyncio\\events.py\", line 145, in _run\n    self._callback(*self._args)\n  File \"G:\\Anaconda3\\Anaconda3-5.2.0\\lib\\site-packages\\tornado\\ioloop.py\", line 759, in _run_callback\n    ret = callback()\n  File \"G:\\Anaconda3\\Anaconda3-5.2.0\\lib\\site-packages\\tornado\\stack_context.py\", line 276, in null_wrapper\n    return fn(*args, **kwargs)\n  File \"G:\\Anaconda3\\Anaconda3-5.2.0\\lib\\site-packages\\tornado\\gen.py\", line 1199, in inner\n    self.run()\n  File \"G:\\Anaconda3\\Anaconda3-5.2.0\\lib\\site-packages\\tornado\\gen.py\", line 1113, in run\n    yielded = self.gen.send(value)\n  File \"G:\\Anaconda3\\Anaconda3-5.2.0\\lib\\site-packages\\ipykernel\\kernelbase.py\", line 361, in process_one\n    yield gen.maybe_future(dispatch(*args))\n  File \"G:\\Anaconda3\\Anaconda3-5.2.0\\lib\\site-packages\\tornado\\gen.py\", line 315, in wrapper\n    yielded = next(result)\n  File \"G:\\Anaconda3\\Anaconda3-5.2.0\\lib\\site-packages\\ipykernel\\kernelbase.py\", line 268, in dispatch_shell\n    yield gen.maybe_future(handler(stream, idents, msg))\n  File \"G:\\Anaconda3\\Anaconda3-5.2.0\\lib\\site-packages\\tornado\\gen.py\", line 315, in wrapper\n    yielded = next(result)\n  File \"G:\\Anaconda3\\Anaconda3-5.2.0\\lib\\site-packages\\ipykernel\\kernelbase.py\", line 541, in execute_request\n    user_expressions, allow_stdin,\n  File \"G:\\Anaconda3\\Anaconda3-5.2.0\\lib\\site-packages\\tornado\\gen.py\", line 315, in wrapper\n    yielded = next(result)\n  File \"G:\\Anaconda3\\Anaconda3-5.2.0\\lib\\site-packages\\ipykernel\\ipkernel.py\", line 300, in do_execute\n    res = shell.run_cell(code, store_history=store_history, silent=silent)\n  File \"G:\\Anaconda3\\Anaconda3-5.2.0\\lib\\site-packages\\ipykernel\\zmqshell.py\", line 536, in run_cell\n    return super(ZMQInteractiveShell, self).run_cell(*args, **kwargs)\n  File \"G:\\Anaconda3\\Anaconda3-5.2.0\\lib\\site-packages\\IPython\\core\\interactiveshell.py\", line 2662, in run_cell\n    raw_cell, store_history, silent, shell_futures)\n  File \"G:\\Anaconda3\\Anaconda3-5.2.0\\lib\\site-packages\\IPython\\core\\interactiveshell.py\", line 2785, in _run_cell\n    interactivity=interactivity, compiler=compiler, result=result)\n  File \"G:\\Anaconda3\\Anaconda3-5.2.0\\lib\\site-packages\\IPython\\core\\interactiveshell.py\", line 2903, in run_ast_nodes\n    if self.run_code(code, result):\n  File \"G:\\Anaconda3\\Anaconda3-5.2.0\\lib\\site-packages\\IPython\\core\\interactiveshell.py\", line 2963, in run_code\n    exec(code_obj, self.user_global_ns, self.user_ns)\n  File \"<ipython-input-7-4f0ab4fa96c5>\", line 22, in <module>\n    x = tf.placeholder(tf.float32, shape=[None, 784],name = 'x-input')\n  File \"G:\\Anaconda3\\Anaconda3-5.2.0\\lib\\site-packages\\tensorflow\\python\\ops\\array_ops.py\", line 2077, in placeholder\n    return gen_array_ops.placeholder(dtype=dtype, shape=shape, name=name)\n  File \"G:\\Anaconda3\\Anaconda3-5.2.0\\lib\\site-packages\\tensorflow\\python\\ops\\gen_array_ops.py\", line 6834, in placeholder\n    \"Placeholder\", dtype=dtype, shape=shape, name=name)\n  File \"G:\\Anaconda3\\Anaconda3-5.2.0\\lib\\site-packages\\tensorflow\\python\\framework\\op_def_library.py\", line 788, in _apply_op_helper\n    op_def=op_def)\n  File \"G:\\Anaconda3\\Anaconda3-5.2.0\\lib\\site-packages\\tensorflow\\python\\util\\deprecation.py\", line 507, in new_func\n    return func(*args, **kwargs)\n  File \"G:\\Anaconda3\\Anaconda3-5.2.0\\lib\\site-packages\\tensorflow\\python\\framework\\ops.py\", line 3300, in create_op\n    op_def=op_def)\n  File \"G:\\Anaconda3\\Anaconda3-5.2.0\\lib\\site-packages\\tensorflow\\python\\framework\\ops.py\", line 1801, in __init__\n    self._traceback = tf_stack.extract_stack()\n\nInvalidArgumentError (see above for traceback): You must feed a value for placeholder tensor 'input/x-input' with dtype float and shape [?,784]\n\t [[node input/x-input (defined at <ipython-input-7-4f0ab4fa96c5>:22) ]]\n\t [[node layer/weight/summaries/stddev/Sqrt (defined at <ipython-input-7-4f0ab4fa96c5>:13) ]]\n",
     "output_type": "error",
     "traceback": [
      "\u001b[1;31m---------------------------------------------------------------------------\u001b[0m",
      "\u001b[1;31mInvalidArgumentError\u001b[0m                      Traceback (most recent call last)",
      "\u001b[1;32mG:\\Anaconda3\\Anaconda3-5.2.0\\lib\\site-packages\\tensorflow\\python\\client\\session.py\u001b[0m in \u001b[0;36m_do_call\u001b[1;34m(self, fn, *args)\u001b[0m\n\u001b[0;32m   1333\u001b[0m     \u001b[1;32mtry\u001b[0m\u001b[1;33m:\u001b[0m\u001b[1;33m\u001b[0m\u001b[0m\n\u001b[1;32m-> 1334\u001b[1;33m       \u001b[1;32mreturn\u001b[0m \u001b[0mfn\u001b[0m\u001b[1;33m(\u001b[0m\u001b[1;33m*\u001b[0m\u001b[0margs\u001b[0m\u001b[1;33m)\u001b[0m\u001b[1;33m\u001b[0m\u001b[0m\n\u001b[0m\u001b[0;32m   1335\u001b[0m     \u001b[1;32mexcept\u001b[0m \u001b[0merrors\u001b[0m\u001b[1;33m.\u001b[0m\u001b[0mOpError\u001b[0m \u001b[1;32mas\u001b[0m \u001b[0me\u001b[0m\u001b[1;33m:\u001b[0m\u001b[1;33m\u001b[0m\u001b[0m\n",
      "\u001b[1;32mG:\\Anaconda3\\Anaconda3-5.2.0\\lib\\site-packages\\tensorflow\\python\\client\\session.py\u001b[0m in \u001b[0;36m_run_fn\u001b[1;34m(feed_dict, fetch_list, target_list, options, run_metadata)\u001b[0m\n\u001b[0;32m   1318\u001b[0m       return self._call_tf_sessionrun(\n\u001b[1;32m-> 1319\u001b[1;33m           options, feed_dict, fetch_list, target_list, run_metadata)\n\u001b[0m\u001b[0;32m   1320\u001b[0m \u001b[1;33m\u001b[0m\u001b[0m\n",
      "\u001b[1;32mG:\\Anaconda3\\Anaconda3-5.2.0\\lib\\site-packages\\tensorflow\\python\\client\\session.py\u001b[0m in \u001b[0;36m_call_tf_sessionrun\u001b[1;34m(self, options, feed_dict, fetch_list, target_list, run_metadata)\u001b[0m\n\u001b[0;32m   1406\u001b[0m         \u001b[0mself\u001b[0m\u001b[1;33m.\u001b[0m\u001b[0m_session\u001b[0m\u001b[1;33m,\u001b[0m \u001b[0moptions\u001b[0m\u001b[1;33m,\u001b[0m \u001b[0mfeed_dict\u001b[0m\u001b[1;33m,\u001b[0m \u001b[0mfetch_list\u001b[0m\u001b[1;33m,\u001b[0m \u001b[0mtarget_list\u001b[0m\u001b[1;33m,\u001b[0m\u001b[1;33m\u001b[0m\u001b[0m\n\u001b[1;32m-> 1407\u001b[1;33m         run_metadata)\n\u001b[0m\u001b[0;32m   1408\u001b[0m \u001b[1;33m\u001b[0m\u001b[0m\n",
      "\u001b[1;31mInvalidArgumentError\u001b[0m: You must feed a value for placeholder tensor 'input/x-input' with dtype float and shape [?,784]\n\t [[{{node input/x-input}}]]\n\t [[{{node layer/weight/summaries/stddev/Sqrt}}]]",
      "\nDuring handling of the above exception, another exception occurred:\n",
      "\u001b[1;31mInvalidArgumentError\u001b[0m                      Traceback (most recent call last)",
      "\u001b[1;32m<ipython-input-11-c295d4416be0>\u001b[0m in \u001b[0;36m<module>\u001b[1;34m()\u001b[0m\n\u001b[0;32m      6\u001b[0m         \u001b[1;32mfor\u001b[0m \u001b[0mpic\u001b[0m \u001b[1;32min\u001b[0m \u001b[0mrange\u001b[0m\u001b[1;33m(\u001b[0m\u001b[0mn_batch\u001b[0m\u001b[1;33m)\u001b[0m\u001b[1;33m:\u001b[0m                                \u001b[1;31m# 每次训练 是从第n个批次里取1个数据 循环结束 所有批次中的数据被训练一次\u001b[0m\u001b[1;33m\u001b[0m\u001b[0m\n\u001b[0;32m      7\u001b[0m             \u001b[0mpic_data\u001b[0m\u001b[1;33m,\u001b[0m\u001b[0mpic_tag\u001b[0m \u001b[1;33m=\u001b[0m \u001b[0mmnist\u001b[0m\u001b[1;33m.\u001b[0m\u001b[0mtrain\u001b[0m\u001b[1;33m.\u001b[0m\u001b[0mnext_batch\u001b[0m\u001b[1;33m(\u001b[0m\u001b[0mbatch_size\u001b[0m\u001b[1;33m)\u001b[0m   \u001b[1;31m# 从train集中选取batch_size个训练数据 next_batch(我觉得这是bagging 错)\u001b[0m\u001b[1;33m\u001b[0m\u001b[0m\n\u001b[1;32m----> 8\u001b[1;33m             \u001b[0msummary\u001b[0m\u001b[1;33m,\u001b[0m\u001b[0m_\u001b[0m \u001b[1;33m=\u001b[0m  \u001b[0msess\u001b[0m\u001b[1;33m.\u001b[0m\u001b[0mrun\u001b[0m\u001b[1;33m(\u001b[0m\u001b[1;33m[\u001b[0m\u001b[0mmerged\u001b[0m\u001b[1;33m,\u001b[0m\u001b[0mtrain\u001b[0m\u001b[1;33m]\u001b[0m\u001b[1;33m,\u001b[0m\u001b[0mfeed_dict\u001b[0m\u001b[1;33m=\u001b[0m\u001b[1;33m{\u001b[0m\u001b[0mx\u001b[0m\u001b[1;33m:\u001b[0m\u001b[0mpic_data\u001b[0m\u001b[1;33m,\u001b[0m\u001b[0my\u001b[0m\u001b[1;33m:\u001b[0m\u001b[0mpic_tag\u001b[0m\u001b[1;33m}\u001b[0m\u001b[1;33m)\u001b[0m \u001b[1;31m# 训练一次 统计一次  merged会有一个返回值 存在summary里\u001b[0m\u001b[1;33m\u001b[0m\u001b[0m\n\u001b[0m\u001b[0;32m      9\u001b[0m         \u001b[0mwriter\u001b[0m\u001b[1;33m.\u001b[0m\u001b[0madd_summary\u001b[0m\u001b[1;33m(\u001b[0m\u001b[0msummary\u001b[0m\u001b[1;33m,\u001b[0m\u001b[0mepoch\u001b[0m\u001b[1;33m)\u001b[0m\u001b[1;33m\u001b[0m\u001b[0m\n\u001b[0;32m     10\u001b[0m     \u001b[1;31m# 每一次大循环 看一下准确率\u001b[0m\u001b[1;33m\u001b[0m\u001b[1;33m\u001b[0m\u001b[0m\n",
      "\u001b[1;32mG:\\Anaconda3\\Anaconda3-5.2.0\\lib\\site-packages\\tensorflow\\python\\client\\session.py\u001b[0m in \u001b[0;36mrun\u001b[1;34m(self, fetches, feed_dict, options, run_metadata)\u001b[0m\n\u001b[0;32m    927\u001b[0m     \u001b[1;32mtry\u001b[0m\u001b[1;33m:\u001b[0m\u001b[1;33m\u001b[0m\u001b[0m\n\u001b[0;32m    928\u001b[0m       result = self._run(None, fetches, feed_dict, options_ptr,\n\u001b[1;32m--> 929\u001b[1;33m                          run_metadata_ptr)\n\u001b[0m\u001b[0;32m    930\u001b[0m       \u001b[1;32mif\u001b[0m \u001b[0mrun_metadata\u001b[0m\u001b[1;33m:\u001b[0m\u001b[1;33m\u001b[0m\u001b[0m\n\u001b[0;32m    931\u001b[0m         \u001b[0mproto_data\u001b[0m \u001b[1;33m=\u001b[0m \u001b[0mtf_session\u001b[0m\u001b[1;33m.\u001b[0m\u001b[0mTF_GetBuffer\u001b[0m\u001b[1;33m(\u001b[0m\u001b[0mrun_metadata_ptr\u001b[0m\u001b[1;33m)\u001b[0m\u001b[1;33m\u001b[0m\u001b[0m\n",
      "\u001b[1;32mG:\\Anaconda3\\Anaconda3-5.2.0\\lib\\site-packages\\tensorflow\\python\\client\\session.py\u001b[0m in \u001b[0;36m_run\u001b[1;34m(self, handle, fetches, feed_dict, options, run_metadata)\u001b[0m\n\u001b[0;32m   1150\u001b[0m     \u001b[1;32mif\u001b[0m \u001b[0mfinal_fetches\u001b[0m \u001b[1;32mor\u001b[0m \u001b[0mfinal_targets\u001b[0m \u001b[1;32mor\u001b[0m \u001b[1;33m(\u001b[0m\u001b[0mhandle\u001b[0m \u001b[1;32mand\u001b[0m \u001b[0mfeed_dict_tensor\u001b[0m\u001b[1;33m)\u001b[0m\u001b[1;33m:\u001b[0m\u001b[1;33m\u001b[0m\u001b[0m\n\u001b[0;32m   1151\u001b[0m       results = self._do_run(handle, final_targets, final_fetches,\n\u001b[1;32m-> 1152\u001b[1;33m                              feed_dict_tensor, options, run_metadata)\n\u001b[0m\u001b[0;32m   1153\u001b[0m     \u001b[1;32melse\u001b[0m\u001b[1;33m:\u001b[0m\u001b[1;33m\u001b[0m\u001b[0m\n\u001b[0;32m   1154\u001b[0m       \u001b[0mresults\u001b[0m \u001b[1;33m=\u001b[0m \u001b[1;33m[\u001b[0m\u001b[1;33m]\u001b[0m\u001b[1;33m\u001b[0m\u001b[0m\n",
      "\u001b[1;32mG:\\Anaconda3\\Anaconda3-5.2.0\\lib\\site-packages\\tensorflow\\python\\client\\session.py\u001b[0m in \u001b[0;36m_do_run\u001b[1;34m(self, handle, target_list, fetch_list, feed_dict, options, run_metadata)\u001b[0m\n\u001b[0;32m   1326\u001b[0m     \u001b[1;32mif\u001b[0m \u001b[0mhandle\u001b[0m \u001b[1;32mis\u001b[0m \u001b[1;32mNone\u001b[0m\u001b[1;33m:\u001b[0m\u001b[1;33m\u001b[0m\u001b[0m\n\u001b[0;32m   1327\u001b[0m       return self._do_call(_run_fn, feeds, fetches, targets, options,\n\u001b[1;32m-> 1328\u001b[1;33m                            run_metadata)\n\u001b[0m\u001b[0;32m   1329\u001b[0m     \u001b[1;32melse\u001b[0m\u001b[1;33m:\u001b[0m\u001b[1;33m\u001b[0m\u001b[0m\n\u001b[0;32m   1330\u001b[0m       \u001b[1;32mreturn\u001b[0m \u001b[0mself\u001b[0m\u001b[1;33m.\u001b[0m\u001b[0m_do_call\u001b[0m\u001b[1;33m(\u001b[0m\u001b[0m_prun_fn\u001b[0m\u001b[1;33m,\u001b[0m \u001b[0mhandle\u001b[0m\u001b[1;33m,\u001b[0m \u001b[0mfeeds\u001b[0m\u001b[1;33m,\u001b[0m \u001b[0mfetches\u001b[0m\u001b[1;33m)\u001b[0m\u001b[1;33m\u001b[0m\u001b[0m\n",
      "\u001b[1;32mG:\\Anaconda3\\Anaconda3-5.2.0\\lib\\site-packages\\tensorflow\\python\\client\\session.py\u001b[0m in \u001b[0;36m_do_call\u001b[1;34m(self, fn, *args)\u001b[0m\n\u001b[0;32m   1346\u001b[0m           \u001b[1;32mpass\u001b[0m\u001b[1;33m\u001b[0m\u001b[0m\n\u001b[0;32m   1347\u001b[0m       \u001b[0mmessage\u001b[0m \u001b[1;33m=\u001b[0m \u001b[0merror_interpolation\u001b[0m\u001b[1;33m.\u001b[0m\u001b[0minterpolate\u001b[0m\u001b[1;33m(\u001b[0m\u001b[0mmessage\u001b[0m\u001b[1;33m,\u001b[0m \u001b[0mself\u001b[0m\u001b[1;33m.\u001b[0m\u001b[0m_graph\u001b[0m\u001b[1;33m)\u001b[0m\u001b[1;33m\u001b[0m\u001b[0m\n\u001b[1;32m-> 1348\u001b[1;33m       \u001b[1;32mraise\u001b[0m \u001b[0mtype\u001b[0m\u001b[1;33m(\u001b[0m\u001b[0me\u001b[0m\u001b[1;33m)\u001b[0m\u001b[1;33m(\u001b[0m\u001b[0mnode_def\u001b[0m\u001b[1;33m,\u001b[0m \u001b[0mop\u001b[0m\u001b[1;33m,\u001b[0m \u001b[0mmessage\u001b[0m\u001b[1;33m)\u001b[0m\u001b[1;33m\u001b[0m\u001b[0m\n\u001b[0m\u001b[0;32m   1349\u001b[0m \u001b[1;33m\u001b[0m\u001b[0m\n\u001b[0;32m   1350\u001b[0m   \u001b[1;32mdef\u001b[0m \u001b[0m_extend_graph\u001b[0m\u001b[1;33m(\u001b[0m\u001b[0mself\u001b[0m\u001b[1;33m)\u001b[0m\u001b[1;33m:\u001b[0m\u001b[1;33m\u001b[0m\u001b[0m\n",
      "\u001b[1;31mInvalidArgumentError\u001b[0m: You must feed a value for placeholder tensor 'input/x-input' with dtype float and shape [?,784]\n\t [[node input/x-input (defined at <ipython-input-7-4f0ab4fa96c5>:22) ]]\n\t [[node layer/weight/summaries/stddev/Sqrt (defined at <ipython-input-7-4f0ab4fa96c5>:13) ]]\n\nCaused by op 'input/x-input', defined at:\n  File \"G:\\Anaconda3\\Anaconda3-5.2.0\\lib\\runpy.py\", line 193, in _run_module_as_main\n    \"__main__\", mod_spec)\n  File \"G:\\Anaconda3\\Anaconda3-5.2.0\\lib\\runpy.py\", line 85, in _run_code\n    exec(code, run_globals)\n  File \"G:\\Anaconda3\\Anaconda3-5.2.0\\lib\\site-packages\\ipykernel_launcher.py\", line 16, in <module>\n    app.launch_new_instance()\n  File \"G:\\Anaconda3\\Anaconda3-5.2.0\\lib\\site-packages\\traitlets\\config\\application.py\", line 658, in launch_instance\n    app.start()\n  File \"G:\\Anaconda3\\Anaconda3-5.2.0\\lib\\site-packages\\ipykernel\\kernelapp.py\", line 563, in start\n    self.io_loop.start()\n  File \"G:\\Anaconda3\\Anaconda3-5.2.0\\lib\\site-packages\\tornado\\platform\\asyncio.py\", line 127, in start\n    self.asyncio_loop.run_forever()\n  File \"G:\\Anaconda3\\Anaconda3-5.2.0\\lib\\asyncio\\base_events.py\", line 422, in run_forever\n    self._run_once()\n  File \"G:\\Anaconda3\\Anaconda3-5.2.0\\lib\\asyncio\\base_events.py\", line 1432, in _run_once\n    handle._run()\n  File \"G:\\Anaconda3\\Anaconda3-5.2.0\\lib\\asyncio\\events.py\", line 145, in _run\n    self._callback(*self._args)\n  File \"G:\\Anaconda3\\Anaconda3-5.2.0\\lib\\site-packages\\tornado\\ioloop.py\", line 759, in _run_callback\n    ret = callback()\n  File \"G:\\Anaconda3\\Anaconda3-5.2.0\\lib\\site-packages\\tornado\\stack_context.py\", line 276, in null_wrapper\n    return fn(*args, **kwargs)\n  File \"G:\\Anaconda3\\Anaconda3-5.2.0\\lib\\site-packages\\tornado\\gen.py\", line 1199, in inner\n    self.run()\n  File \"G:\\Anaconda3\\Anaconda3-5.2.0\\lib\\site-packages\\tornado\\gen.py\", line 1113, in run\n    yielded = self.gen.send(value)\n  File \"G:\\Anaconda3\\Anaconda3-5.2.0\\lib\\site-packages\\ipykernel\\kernelbase.py\", line 361, in process_one\n    yield gen.maybe_future(dispatch(*args))\n  File \"G:\\Anaconda3\\Anaconda3-5.2.0\\lib\\site-packages\\tornado\\gen.py\", line 315, in wrapper\n    yielded = next(result)\n  File \"G:\\Anaconda3\\Anaconda3-5.2.0\\lib\\site-packages\\ipykernel\\kernelbase.py\", line 268, in dispatch_shell\n    yield gen.maybe_future(handler(stream, idents, msg))\n  File \"G:\\Anaconda3\\Anaconda3-5.2.0\\lib\\site-packages\\tornado\\gen.py\", line 315, in wrapper\n    yielded = next(result)\n  File \"G:\\Anaconda3\\Anaconda3-5.2.0\\lib\\site-packages\\ipykernel\\kernelbase.py\", line 541, in execute_request\n    user_expressions, allow_stdin,\n  File \"G:\\Anaconda3\\Anaconda3-5.2.0\\lib\\site-packages\\tornado\\gen.py\", line 315, in wrapper\n    yielded = next(result)\n  File \"G:\\Anaconda3\\Anaconda3-5.2.0\\lib\\site-packages\\ipykernel\\ipkernel.py\", line 300, in do_execute\n    res = shell.run_cell(code, store_history=store_history, silent=silent)\n  File \"G:\\Anaconda3\\Anaconda3-5.2.0\\lib\\site-packages\\ipykernel\\zmqshell.py\", line 536, in run_cell\n    return super(ZMQInteractiveShell, self).run_cell(*args, **kwargs)\n  File \"G:\\Anaconda3\\Anaconda3-5.2.0\\lib\\site-packages\\IPython\\core\\interactiveshell.py\", line 2662, in run_cell\n    raw_cell, store_history, silent, shell_futures)\n  File \"G:\\Anaconda3\\Anaconda3-5.2.0\\lib\\site-packages\\IPython\\core\\interactiveshell.py\", line 2785, in _run_cell\n    interactivity=interactivity, compiler=compiler, result=result)\n  File \"G:\\Anaconda3\\Anaconda3-5.2.0\\lib\\site-packages\\IPython\\core\\interactiveshell.py\", line 2903, in run_ast_nodes\n    if self.run_code(code, result):\n  File \"G:\\Anaconda3\\Anaconda3-5.2.0\\lib\\site-packages\\IPython\\core\\interactiveshell.py\", line 2963, in run_code\n    exec(code_obj, self.user_global_ns, self.user_ns)\n  File \"<ipython-input-7-4f0ab4fa96c5>\", line 22, in <module>\n    x = tf.placeholder(tf.float32, shape=[None, 784],name = 'x-input')\n  File \"G:\\Anaconda3\\Anaconda3-5.2.0\\lib\\site-packages\\tensorflow\\python\\ops\\array_ops.py\", line 2077, in placeholder\n    return gen_array_ops.placeholder(dtype=dtype, shape=shape, name=name)\n  File \"G:\\Anaconda3\\Anaconda3-5.2.0\\lib\\site-packages\\tensorflow\\python\\ops\\gen_array_ops.py\", line 6834, in placeholder\n    \"Placeholder\", dtype=dtype, shape=shape, name=name)\n  File \"G:\\Anaconda3\\Anaconda3-5.2.0\\lib\\site-packages\\tensorflow\\python\\framework\\op_def_library.py\", line 788, in _apply_op_helper\n    op_def=op_def)\n  File \"G:\\Anaconda3\\Anaconda3-5.2.0\\lib\\site-packages\\tensorflow\\python\\util\\deprecation.py\", line 507, in new_func\n    return func(*args, **kwargs)\n  File \"G:\\Anaconda3\\Anaconda3-5.2.0\\lib\\site-packages\\tensorflow\\python\\framework\\ops.py\", line 3300, in create_op\n    op_def=op_def)\n  File \"G:\\Anaconda3\\Anaconda3-5.2.0\\lib\\site-packages\\tensorflow\\python\\framework\\ops.py\", line 1801, in __init__\n    self._traceback = tf_stack.extract_stack()\n\nInvalidArgumentError (see above for traceback): You must feed a value for placeholder tensor 'input/x-input' with dtype float and shape [?,784]\n\t [[node input/x-input (defined at <ipython-input-7-4f0ab4fa96c5>:22) ]]\n\t [[node layer/weight/summaries/stddev/Sqrt (defined at <ipython-input-7-4f0ab4fa96c5>:13) ]]\n"
     ]
    }
   ],
   "source": [
    "# 训练完所有图片 即训练完一个大周期 才会打一个点 一共打51个点\n",
    "with tf.Session() as sess:\n",
    "    sess.run(init)\n",
    "    writer = tf.summary.FileWriter('logdir',sess.graph)\n",
    "    for epoch in range(51):                                                                                                # 总共训练21次\n",
    "        for pic in range(n_batch):                                # 每次训练 是从第n个批次里取1个数据 循环结束 所有批次中的数据被训练一次\n",
    "            pic_data,pic_tag = mnist.train.next_batch(batch_size)   # 从train集中选取batch_size个训练数据 next_batch(我觉得这是bagging 错)\n",
    "            summary,_ =  sess.run([merged,train],feed_dict={x:pic_data,y:pic_tag}) # 训练一次 统计一次  merged会有一个返回值 存在summary里\n",
    "        writer.add_summary(summary,epoch)\n",
    "    # 每一次大循环 看一下准确率\n",
    "        if epoch % 5 == 0:\n",
    "            accuracy_rate = sess.run(accuracy,feed_dict={x:mnist.test.images,y:mnist.test.labels})\n",
    "            print('第' + str(epoch) + '次大循环，测试集准确率为' + str(accuracy_rate))"
   ]
  },
  {
   "cell_type": "code",
   "execution_count": 12,
   "metadata": {},
   "outputs": [
    {
     "ename": "InvalidArgumentError",
     "evalue": "You must feed a value for placeholder tensor 'input/x-input' with dtype float and shape [?,784]\n\t [[node input/x-input (defined at <ipython-input-7-4f0ab4fa96c5>:22) ]]\n\t [[node layer_1/weight/W/read (defined at <ipython-input-8-4f0ab4fa96c5>:26) ]]\n\nCaused by op 'input/x-input', defined at:\n  File \"G:\\Anaconda3\\Anaconda3-5.2.0\\lib\\runpy.py\", line 193, in _run_module_as_main\n    \"__main__\", mod_spec)\n  File \"G:\\Anaconda3\\Anaconda3-5.2.0\\lib\\runpy.py\", line 85, in _run_code\n    exec(code, run_globals)\n  File \"G:\\Anaconda3\\Anaconda3-5.2.0\\lib\\site-packages\\ipykernel_launcher.py\", line 16, in <module>\n    app.launch_new_instance()\n  File \"G:\\Anaconda3\\Anaconda3-5.2.0\\lib\\site-packages\\traitlets\\config\\application.py\", line 658, in launch_instance\n    app.start()\n  File \"G:\\Anaconda3\\Anaconda3-5.2.0\\lib\\site-packages\\ipykernel\\kernelapp.py\", line 563, in start\n    self.io_loop.start()\n  File \"G:\\Anaconda3\\Anaconda3-5.2.0\\lib\\site-packages\\tornado\\platform\\asyncio.py\", line 127, in start\n    self.asyncio_loop.run_forever()\n  File \"G:\\Anaconda3\\Anaconda3-5.2.0\\lib\\asyncio\\base_events.py\", line 422, in run_forever\n    self._run_once()\n  File \"G:\\Anaconda3\\Anaconda3-5.2.0\\lib\\asyncio\\base_events.py\", line 1432, in _run_once\n    handle._run()\n  File \"G:\\Anaconda3\\Anaconda3-5.2.0\\lib\\asyncio\\events.py\", line 145, in _run\n    self._callback(*self._args)\n  File \"G:\\Anaconda3\\Anaconda3-5.2.0\\lib\\site-packages\\tornado\\ioloop.py\", line 759, in _run_callback\n    ret = callback()\n  File \"G:\\Anaconda3\\Anaconda3-5.2.0\\lib\\site-packages\\tornado\\stack_context.py\", line 276, in null_wrapper\n    return fn(*args, **kwargs)\n  File \"G:\\Anaconda3\\Anaconda3-5.2.0\\lib\\site-packages\\tornado\\gen.py\", line 1199, in inner\n    self.run()\n  File \"G:\\Anaconda3\\Anaconda3-5.2.0\\lib\\site-packages\\tornado\\gen.py\", line 1113, in run\n    yielded = self.gen.send(value)\n  File \"G:\\Anaconda3\\Anaconda3-5.2.0\\lib\\site-packages\\ipykernel\\kernelbase.py\", line 361, in process_one\n    yield gen.maybe_future(dispatch(*args))\n  File \"G:\\Anaconda3\\Anaconda3-5.2.0\\lib\\site-packages\\tornado\\gen.py\", line 315, in wrapper\n    yielded = next(result)\n  File \"G:\\Anaconda3\\Anaconda3-5.2.0\\lib\\site-packages\\ipykernel\\kernelbase.py\", line 268, in dispatch_shell\n    yield gen.maybe_future(handler(stream, idents, msg))\n  File \"G:\\Anaconda3\\Anaconda3-5.2.0\\lib\\site-packages\\tornado\\gen.py\", line 315, in wrapper\n    yielded = next(result)\n  File \"G:\\Anaconda3\\Anaconda3-5.2.0\\lib\\site-packages\\ipykernel\\kernelbase.py\", line 541, in execute_request\n    user_expressions, allow_stdin,\n  File \"G:\\Anaconda3\\Anaconda3-5.2.0\\lib\\site-packages\\tornado\\gen.py\", line 315, in wrapper\n    yielded = next(result)\n  File \"G:\\Anaconda3\\Anaconda3-5.2.0\\lib\\site-packages\\ipykernel\\ipkernel.py\", line 300, in do_execute\n    res = shell.run_cell(code, store_history=store_history, silent=silent)\n  File \"G:\\Anaconda3\\Anaconda3-5.2.0\\lib\\site-packages\\ipykernel\\zmqshell.py\", line 536, in run_cell\n    return super(ZMQInteractiveShell, self).run_cell(*args, **kwargs)\n  File \"G:\\Anaconda3\\Anaconda3-5.2.0\\lib\\site-packages\\IPython\\core\\interactiveshell.py\", line 2662, in run_cell\n    raw_cell, store_history, silent, shell_futures)\n  File \"G:\\Anaconda3\\Anaconda3-5.2.0\\lib\\site-packages\\IPython\\core\\interactiveshell.py\", line 2785, in _run_cell\n    interactivity=interactivity, compiler=compiler, result=result)\n  File \"G:\\Anaconda3\\Anaconda3-5.2.0\\lib\\site-packages\\IPython\\core\\interactiveshell.py\", line 2903, in run_ast_nodes\n    if self.run_code(code, result):\n  File \"G:\\Anaconda3\\Anaconda3-5.2.0\\lib\\site-packages\\IPython\\core\\interactiveshell.py\", line 2963, in run_code\n    exec(code_obj, self.user_global_ns, self.user_ns)\n  File \"<ipython-input-7-4f0ab4fa96c5>\", line 22, in <module>\n    x = tf.placeholder(tf.float32, shape=[None, 784],name = 'x-input')\n  File \"G:\\Anaconda3\\Anaconda3-5.2.0\\lib\\site-packages\\tensorflow\\python\\ops\\array_ops.py\", line 2077, in placeholder\n    return gen_array_ops.placeholder(dtype=dtype, shape=shape, name=name)\n  File \"G:\\Anaconda3\\Anaconda3-5.2.0\\lib\\site-packages\\tensorflow\\python\\ops\\gen_array_ops.py\", line 6834, in placeholder\n    \"Placeholder\", dtype=dtype, shape=shape, name=name)\n  File \"G:\\Anaconda3\\Anaconda3-5.2.0\\lib\\site-packages\\tensorflow\\python\\framework\\op_def_library.py\", line 788, in _apply_op_helper\n    op_def=op_def)\n  File \"G:\\Anaconda3\\Anaconda3-5.2.0\\lib\\site-packages\\tensorflow\\python\\util\\deprecation.py\", line 507, in new_func\n    return func(*args, **kwargs)\n  File \"G:\\Anaconda3\\Anaconda3-5.2.0\\lib\\site-packages\\tensorflow\\python\\framework\\ops.py\", line 3300, in create_op\n    op_def=op_def)\n  File \"G:\\Anaconda3\\Anaconda3-5.2.0\\lib\\site-packages\\tensorflow\\python\\framework\\ops.py\", line 1801, in __init__\n    self._traceback = tf_stack.extract_stack()\n\nInvalidArgumentError (see above for traceback): You must feed a value for placeholder tensor 'input/x-input' with dtype float and shape [?,784]\n\t [[node input/x-input (defined at <ipython-input-7-4f0ab4fa96c5>:22) ]]\n\t [[node layer_1/weight/W/read (defined at <ipython-input-8-4f0ab4fa96c5>:26) ]]\n",
     "output_type": "error",
     "traceback": [
      "\u001b[1;31m---------------------------------------------------------------------------\u001b[0m",
      "\u001b[1;31mInvalidArgumentError\u001b[0m                      Traceback (most recent call last)",
      "\u001b[1;32mG:\\Anaconda3\\Anaconda3-5.2.0\\lib\\site-packages\\tensorflow\\python\\client\\session.py\u001b[0m in \u001b[0;36m_do_call\u001b[1;34m(self, fn, *args)\u001b[0m\n\u001b[0;32m   1333\u001b[0m     \u001b[1;32mtry\u001b[0m\u001b[1;33m:\u001b[0m\u001b[1;33m\u001b[0m\u001b[0m\n\u001b[1;32m-> 1334\u001b[1;33m       \u001b[1;32mreturn\u001b[0m \u001b[0mfn\u001b[0m\u001b[1;33m(\u001b[0m\u001b[1;33m*\u001b[0m\u001b[0margs\u001b[0m\u001b[1;33m)\u001b[0m\u001b[1;33m\u001b[0m\u001b[0m\n\u001b[0m\u001b[0;32m   1335\u001b[0m     \u001b[1;32mexcept\u001b[0m \u001b[0merrors\u001b[0m\u001b[1;33m.\u001b[0m\u001b[0mOpError\u001b[0m \u001b[1;32mas\u001b[0m \u001b[0me\u001b[0m\u001b[1;33m:\u001b[0m\u001b[1;33m\u001b[0m\u001b[0m\n",
      "\u001b[1;32mG:\\Anaconda3\\Anaconda3-5.2.0\\lib\\site-packages\\tensorflow\\python\\client\\session.py\u001b[0m in \u001b[0;36m_run_fn\u001b[1;34m(feed_dict, fetch_list, target_list, options, run_metadata)\u001b[0m\n\u001b[0;32m   1318\u001b[0m       return self._call_tf_sessionrun(\n\u001b[1;32m-> 1319\u001b[1;33m           options, feed_dict, fetch_list, target_list, run_metadata)\n\u001b[0m\u001b[0;32m   1320\u001b[0m \u001b[1;33m\u001b[0m\u001b[0m\n",
      "\u001b[1;32mG:\\Anaconda3\\Anaconda3-5.2.0\\lib\\site-packages\\tensorflow\\python\\client\\session.py\u001b[0m in \u001b[0;36m_call_tf_sessionrun\u001b[1;34m(self, options, feed_dict, fetch_list, target_list, run_metadata)\u001b[0m\n\u001b[0;32m   1406\u001b[0m         \u001b[0mself\u001b[0m\u001b[1;33m.\u001b[0m\u001b[0m_session\u001b[0m\u001b[1;33m,\u001b[0m \u001b[0moptions\u001b[0m\u001b[1;33m,\u001b[0m \u001b[0mfeed_dict\u001b[0m\u001b[1;33m,\u001b[0m \u001b[0mfetch_list\u001b[0m\u001b[1;33m,\u001b[0m \u001b[0mtarget_list\u001b[0m\u001b[1;33m,\u001b[0m\u001b[1;33m\u001b[0m\u001b[0m\n\u001b[1;32m-> 1407\u001b[1;33m         run_metadata)\n\u001b[0m\u001b[0;32m   1408\u001b[0m \u001b[1;33m\u001b[0m\u001b[0m\n",
      "\u001b[1;31mInvalidArgumentError\u001b[0m: You must feed a value for placeholder tensor 'input/x-input' with dtype float and shape [?,784]\n\t [[{{node input/x-input}}]]\n\t [[{{node layer_1/weight/W/read}}]]",
      "\nDuring handling of the above exception, another exception occurred:\n",
      "\u001b[1;31mInvalidArgumentError\u001b[0m                      Traceback (most recent call last)",
      "\u001b[1;32m<ipython-input-12-ac064b9bc3e4>\u001b[0m in \u001b[0;36m<module>\u001b[1;34m()\u001b[0m\n\u001b[0;32m      5\u001b[0m     \u001b[1;32mfor\u001b[0m \u001b[0mi\u001b[0m \u001b[1;32min\u001b[0m \u001b[0mrange\u001b[0m\u001b[1;33m(\u001b[0m\u001b[1;36m2001\u001b[0m\u001b[1;33m)\u001b[0m\u001b[1;33m:\u001b[0m                                                                                                \u001b[1;31m# 总共训练21次\u001b[0m\u001b[1;33m\u001b[0m\u001b[0m\n\u001b[0;32m      6\u001b[0m         \u001b[0mpic_data\u001b[0m\u001b[1;33m,\u001b[0m\u001b[0mpic_tag\u001b[0m \u001b[1;33m=\u001b[0m \u001b[0mmnist\u001b[0m\u001b[1;33m.\u001b[0m\u001b[0mtrain\u001b[0m\u001b[1;33m.\u001b[0m\u001b[0mnext_batch\u001b[0m\u001b[1;33m(\u001b[0m\u001b[1;36m100\u001b[0m\u001b[1;33m)\u001b[0m\u001b[1;33m\u001b[0m\u001b[0m\n\u001b[1;32m----> 7\u001b[1;33m         \u001b[0msummary\u001b[0m\u001b[1;33m,\u001b[0m\u001b[0m_\u001b[0m \u001b[1;33m=\u001b[0m  \u001b[0msess\u001b[0m\u001b[1;33m.\u001b[0m\u001b[0mrun\u001b[0m\u001b[1;33m(\u001b[0m\u001b[1;33m[\u001b[0m\u001b[0mmerged\u001b[0m\u001b[1;33m,\u001b[0m\u001b[0mtrain\u001b[0m\u001b[1;33m]\u001b[0m\u001b[1;33m,\u001b[0m\u001b[0mfeed_dict\u001b[0m\u001b[1;33m=\u001b[0m\u001b[1;33m{\u001b[0m\u001b[0mx\u001b[0m\u001b[1;33m:\u001b[0m\u001b[0mpic_data\u001b[0m\u001b[1;33m,\u001b[0m\u001b[0my\u001b[0m\u001b[1;33m:\u001b[0m\u001b[0mpic_tag\u001b[0m\u001b[1;33m}\u001b[0m\u001b[1;33m)\u001b[0m \u001b[1;31m# 训练一次 统计一次  merged会有一个返回值 存在summary里\u001b[0m\u001b[1;33m\u001b[0m\u001b[0m\n\u001b[0m\u001b[0;32m      8\u001b[0m         \u001b[0mwriter\u001b[0m\u001b[1;33m.\u001b[0m\u001b[0madd_summary\u001b[0m\u001b[1;33m(\u001b[0m\u001b[0msummary\u001b[0m\u001b[1;33m,\u001b[0m\u001b[0mi\u001b[0m\u001b[1;33m)\u001b[0m\u001b[1;33m\u001b[0m\u001b[0m\n\u001b[0;32m      9\u001b[0m     \u001b[1;31m# 每一次大循环 看一下准确率\u001b[0m\u001b[1;33m\u001b[0m\u001b[1;33m\u001b[0m\u001b[0m\n",
      "\u001b[1;32mG:\\Anaconda3\\Anaconda3-5.2.0\\lib\\site-packages\\tensorflow\\python\\client\\session.py\u001b[0m in \u001b[0;36mrun\u001b[1;34m(self, fetches, feed_dict, options, run_metadata)\u001b[0m\n\u001b[0;32m    927\u001b[0m     \u001b[1;32mtry\u001b[0m\u001b[1;33m:\u001b[0m\u001b[1;33m\u001b[0m\u001b[0m\n\u001b[0;32m    928\u001b[0m       result = self._run(None, fetches, feed_dict, options_ptr,\n\u001b[1;32m--> 929\u001b[1;33m                          run_metadata_ptr)\n\u001b[0m\u001b[0;32m    930\u001b[0m       \u001b[1;32mif\u001b[0m \u001b[0mrun_metadata\u001b[0m\u001b[1;33m:\u001b[0m\u001b[1;33m\u001b[0m\u001b[0m\n\u001b[0;32m    931\u001b[0m         \u001b[0mproto_data\u001b[0m \u001b[1;33m=\u001b[0m \u001b[0mtf_session\u001b[0m\u001b[1;33m.\u001b[0m\u001b[0mTF_GetBuffer\u001b[0m\u001b[1;33m(\u001b[0m\u001b[0mrun_metadata_ptr\u001b[0m\u001b[1;33m)\u001b[0m\u001b[1;33m\u001b[0m\u001b[0m\n",
      "\u001b[1;32mG:\\Anaconda3\\Anaconda3-5.2.0\\lib\\site-packages\\tensorflow\\python\\client\\session.py\u001b[0m in \u001b[0;36m_run\u001b[1;34m(self, handle, fetches, feed_dict, options, run_metadata)\u001b[0m\n\u001b[0;32m   1150\u001b[0m     \u001b[1;32mif\u001b[0m \u001b[0mfinal_fetches\u001b[0m \u001b[1;32mor\u001b[0m \u001b[0mfinal_targets\u001b[0m \u001b[1;32mor\u001b[0m \u001b[1;33m(\u001b[0m\u001b[0mhandle\u001b[0m \u001b[1;32mand\u001b[0m \u001b[0mfeed_dict_tensor\u001b[0m\u001b[1;33m)\u001b[0m\u001b[1;33m:\u001b[0m\u001b[1;33m\u001b[0m\u001b[0m\n\u001b[0;32m   1151\u001b[0m       results = self._do_run(handle, final_targets, final_fetches,\n\u001b[1;32m-> 1152\u001b[1;33m                              feed_dict_tensor, options, run_metadata)\n\u001b[0m\u001b[0;32m   1153\u001b[0m     \u001b[1;32melse\u001b[0m\u001b[1;33m:\u001b[0m\u001b[1;33m\u001b[0m\u001b[0m\n\u001b[0;32m   1154\u001b[0m       \u001b[0mresults\u001b[0m \u001b[1;33m=\u001b[0m \u001b[1;33m[\u001b[0m\u001b[1;33m]\u001b[0m\u001b[1;33m\u001b[0m\u001b[0m\n",
      "\u001b[1;32mG:\\Anaconda3\\Anaconda3-5.2.0\\lib\\site-packages\\tensorflow\\python\\client\\session.py\u001b[0m in \u001b[0;36m_do_run\u001b[1;34m(self, handle, target_list, fetch_list, feed_dict, options, run_metadata)\u001b[0m\n\u001b[0;32m   1326\u001b[0m     \u001b[1;32mif\u001b[0m \u001b[0mhandle\u001b[0m \u001b[1;32mis\u001b[0m \u001b[1;32mNone\u001b[0m\u001b[1;33m:\u001b[0m\u001b[1;33m\u001b[0m\u001b[0m\n\u001b[0;32m   1327\u001b[0m       return self._do_call(_run_fn, feeds, fetches, targets, options,\n\u001b[1;32m-> 1328\u001b[1;33m                            run_metadata)\n\u001b[0m\u001b[0;32m   1329\u001b[0m     \u001b[1;32melse\u001b[0m\u001b[1;33m:\u001b[0m\u001b[1;33m\u001b[0m\u001b[0m\n\u001b[0;32m   1330\u001b[0m       \u001b[1;32mreturn\u001b[0m \u001b[0mself\u001b[0m\u001b[1;33m.\u001b[0m\u001b[0m_do_call\u001b[0m\u001b[1;33m(\u001b[0m\u001b[0m_prun_fn\u001b[0m\u001b[1;33m,\u001b[0m \u001b[0mhandle\u001b[0m\u001b[1;33m,\u001b[0m \u001b[0mfeeds\u001b[0m\u001b[1;33m,\u001b[0m \u001b[0mfetches\u001b[0m\u001b[1;33m)\u001b[0m\u001b[1;33m\u001b[0m\u001b[0m\n",
      "\u001b[1;32mG:\\Anaconda3\\Anaconda3-5.2.0\\lib\\site-packages\\tensorflow\\python\\client\\session.py\u001b[0m in \u001b[0;36m_do_call\u001b[1;34m(self, fn, *args)\u001b[0m\n\u001b[0;32m   1346\u001b[0m           \u001b[1;32mpass\u001b[0m\u001b[1;33m\u001b[0m\u001b[0m\n\u001b[0;32m   1347\u001b[0m       \u001b[0mmessage\u001b[0m \u001b[1;33m=\u001b[0m \u001b[0merror_interpolation\u001b[0m\u001b[1;33m.\u001b[0m\u001b[0minterpolate\u001b[0m\u001b[1;33m(\u001b[0m\u001b[0mmessage\u001b[0m\u001b[1;33m,\u001b[0m \u001b[0mself\u001b[0m\u001b[1;33m.\u001b[0m\u001b[0m_graph\u001b[0m\u001b[1;33m)\u001b[0m\u001b[1;33m\u001b[0m\u001b[0m\n\u001b[1;32m-> 1348\u001b[1;33m       \u001b[1;32mraise\u001b[0m \u001b[0mtype\u001b[0m\u001b[1;33m(\u001b[0m\u001b[0me\u001b[0m\u001b[1;33m)\u001b[0m\u001b[1;33m(\u001b[0m\u001b[0mnode_def\u001b[0m\u001b[1;33m,\u001b[0m \u001b[0mop\u001b[0m\u001b[1;33m,\u001b[0m \u001b[0mmessage\u001b[0m\u001b[1;33m)\u001b[0m\u001b[1;33m\u001b[0m\u001b[0m\n\u001b[0m\u001b[0;32m   1349\u001b[0m \u001b[1;33m\u001b[0m\u001b[0m\n\u001b[0;32m   1350\u001b[0m   \u001b[1;32mdef\u001b[0m \u001b[0m_extend_graph\u001b[0m\u001b[1;33m(\u001b[0m\u001b[0mself\u001b[0m\u001b[1;33m)\u001b[0m\u001b[1;33m:\u001b[0m\u001b[1;33m\u001b[0m\u001b[0m\n",
      "\u001b[1;31mInvalidArgumentError\u001b[0m: You must feed a value for placeholder tensor 'input/x-input' with dtype float and shape [?,784]\n\t [[node input/x-input (defined at <ipython-input-7-4f0ab4fa96c5>:22) ]]\n\t [[node layer_1/weight/W/read (defined at <ipython-input-8-4f0ab4fa96c5>:26) ]]\n\nCaused by op 'input/x-input', defined at:\n  File \"G:\\Anaconda3\\Anaconda3-5.2.0\\lib\\runpy.py\", line 193, in _run_module_as_main\n    \"__main__\", mod_spec)\n  File \"G:\\Anaconda3\\Anaconda3-5.2.0\\lib\\runpy.py\", line 85, in _run_code\n    exec(code, run_globals)\n  File \"G:\\Anaconda3\\Anaconda3-5.2.0\\lib\\site-packages\\ipykernel_launcher.py\", line 16, in <module>\n    app.launch_new_instance()\n  File \"G:\\Anaconda3\\Anaconda3-5.2.0\\lib\\site-packages\\traitlets\\config\\application.py\", line 658, in launch_instance\n    app.start()\n  File \"G:\\Anaconda3\\Anaconda3-5.2.0\\lib\\site-packages\\ipykernel\\kernelapp.py\", line 563, in start\n    self.io_loop.start()\n  File \"G:\\Anaconda3\\Anaconda3-5.2.0\\lib\\site-packages\\tornado\\platform\\asyncio.py\", line 127, in start\n    self.asyncio_loop.run_forever()\n  File \"G:\\Anaconda3\\Anaconda3-5.2.0\\lib\\asyncio\\base_events.py\", line 422, in run_forever\n    self._run_once()\n  File \"G:\\Anaconda3\\Anaconda3-5.2.0\\lib\\asyncio\\base_events.py\", line 1432, in _run_once\n    handle._run()\n  File \"G:\\Anaconda3\\Anaconda3-5.2.0\\lib\\asyncio\\events.py\", line 145, in _run\n    self._callback(*self._args)\n  File \"G:\\Anaconda3\\Anaconda3-5.2.0\\lib\\site-packages\\tornado\\ioloop.py\", line 759, in _run_callback\n    ret = callback()\n  File \"G:\\Anaconda3\\Anaconda3-5.2.0\\lib\\site-packages\\tornado\\stack_context.py\", line 276, in null_wrapper\n    return fn(*args, **kwargs)\n  File \"G:\\Anaconda3\\Anaconda3-5.2.0\\lib\\site-packages\\tornado\\gen.py\", line 1199, in inner\n    self.run()\n  File \"G:\\Anaconda3\\Anaconda3-5.2.0\\lib\\site-packages\\tornado\\gen.py\", line 1113, in run\n    yielded = self.gen.send(value)\n  File \"G:\\Anaconda3\\Anaconda3-5.2.0\\lib\\site-packages\\ipykernel\\kernelbase.py\", line 361, in process_one\n    yield gen.maybe_future(dispatch(*args))\n  File \"G:\\Anaconda3\\Anaconda3-5.2.0\\lib\\site-packages\\tornado\\gen.py\", line 315, in wrapper\n    yielded = next(result)\n  File \"G:\\Anaconda3\\Anaconda3-5.2.0\\lib\\site-packages\\ipykernel\\kernelbase.py\", line 268, in dispatch_shell\n    yield gen.maybe_future(handler(stream, idents, msg))\n  File \"G:\\Anaconda3\\Anaconda3-5.2.0\\lib\\site-packages\\tornado\\gen.py\", line 315, in wrapper\n    yielded = next(result)\n  File \"G:\\Anaconda3\\Anaconda3-5.2.0\\lib\\site-packages\\ipykernel\\kernelbase.py\", line 541, in execute_request\n    user_expressions, allow_stdin,\n  File \"G:\\Anaconda3\\Anaconda3-5.2.0\\lib\\site-packages\\tornado\\gen.py\", line 315, in wrapper\n    yielded = next(result)\n  File \"G:\\Anaconda3\\Anaconda3-5.2.0\\lib\\site-packages\\ipykernel\\ipkernel.py\", line 300, in do_execute\n    res = shell.run_cell(code, store_history=store_history, silent=silent)\n  File \"G:\\Anaconda3\\Anaconda3-5.2.0\\lib\\site-packages\\ipykernel\\zmqshell.py\", line 536, in run_cell\n    return super(ZMQInteractiveShell, self).run_cell(*args, **kwargs)\n  File \"G:\\Anaconda3\\Anaconda3-5.2.0\\lib\\site-packages\\IPython\\core\\interactiveshell.py\", line 2662, in run_cell\n    raw_cell, store_history, silent, shell_futures)\n  File \"G:\\Anaconda3\\Anaconda3-5.2.0\\lib\\site-packages\\IPython\\core\\interactiveshell.py\", line 2785, in _run_cell\n    interactivity=interactivity, compiler=compiler, result=result)\n  File \"G:\\Anaconda3\\Anaconda3-5.2.0\\lib\\site-packages\\IPython\\core\\interactiveshell.py\", line 2903, in run_ast_nodes\n    if self.run_code(code, result):\n  File \"G:\\Anaconda3\\Anaconda3-5.2.0\\lib\\site-packages\\IPython\\core\\interactiveshell.py\", line 2963, in run_code\n    exec(code_obj, self.user_global_ns, self.user_ns)\n  File \"<ipython-input-7-4f0ab4fa96c5>\", line 22, in <module>\n    x = tf.placeholder(tf.float32, shape=[None, 784],name = 'x-input')\n  File \"G:\\Anaconda3\\Anaconda3-5.2.0\\lib\\site-packages\\tensorflow\\python\\ops\\array_ops.py\", line 2077, in placeholder\n    return gen_array_ops.placeholder(dtype=dtype, shape=shape, name=name)\n  File \"G:\\Anaconda3\\Anaconda3-5.2.0\\lib\\site-packages\\tensorflow\\python\\ops\\gen_array_ops.py\", line 6834, in placeholder\n    \"Placeholder\", dtype=dtype, shape=shape, name=name)\n  File \"G:\\Anaconda3\\Anaconda3-5.2.0\\lib\\site-packages\\tensorflow\\python\\framework\\op_def_library.py\", line 788, in _apply_op_helper\n    op_def=op_def)\n  File \"G:\\Anaconda3\\Anaconda3-5.2.0\\lib\\site-packages\\tensorflow\\python\\util\\deprecation.py\", line 507, in new_func\n    return func(*args, **kwargs)\n  File \"G:\\Anaconda3\\Anaconda3-5.2.0\\lib\\site-packages\\tensorflow\\python\\framework\\ops.py\", line 3300, in create_op\n    op_def=op_def)\n  File \"G:\\Anaconda3\\Anaconda3-5.2.0\\lib\\site-packages\\tensorflow\\python\\framework\\ops.py\", line 1801, in __init__\n    self._traceback = tf_stack.extract_stack()\n\nInvalidArgumentError (see above for traceback): You must feed a value for placeholder tensor 'input/x-input' with dtype float and shape [?,784]\n\t [[node input/x-input (defined at <ipython-input-7-4f0ab4fa96c5>:22) ]]\n\t [[node layer_1/weight/W/read (defined at <ipython-input-8-4f0ab4fa96c5>:26) ]]\n"
     ]
    }
   ],
   "source": [
    "# 只要训练2001次就打一个点 \n",
    "with tf.Session() as sess:\n",
    "    sess.run(init)\n",
    "    writer = tf.summary.FileWriter('logdir',sess.graph)\n",
    "    for i in range(2001):                                                                                                # 总共训练21次\n",
    "        pic_data,pic_tag = mnist.train.next_batch(100)\n",
    "        summary,_ =  sess.run([merged,train],feed_dict={x:pic_data,y:pic_tag}) # 训练一次 统计一次  merged会有一个返回值 存在summary里\n",
    "        writer.add_summary(summary,i)\n",
    "    # 每一次大循环 看一下准确率\n",
    "        if i % 200 == 0:\n",
    "            accuracy_rate = sess.run(accuracy,feed_dict={x:mnist.test.images,y:mnist.test.labels})\n",
    "            print('第' + str(i) + '次大循环，测试集准确率为' + str(accuracy_rate))"
   ]
  },
  {
   "cell_type": "code",
   "execution_count": null,
   "metadata": {},
   "outputs": [],
   "source": []
  }
 ],
 "metadata": {
  "kernelspec": {
   "display_name": "Python 3",
   "language": "python",
   "name": "python3"
  },
  "language_info": {
   "codemirror_mode": {
    "name": "ipython",
    "version": 3
   },
   "file_extension": ".py",
   "mimetype": "text/x-python",
   "name": "python",
   "nbconvert_exporter": "python",
   "pygments_lexer": "ipython3",
   "version": "3.6.5"
  }
 },
 "nbformat": 4,
 "nbformat_minor": 2
}
