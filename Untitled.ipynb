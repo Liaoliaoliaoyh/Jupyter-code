{
 "cells": [
  {
   "cell_type": "code",
   "execution_count": 1,
   "metadata": {},
   "outputs": [
    {
     "name": "stdout",
     "output_type": "stream",
     "text": [
      "[  -4.20066334  -28.60945532  -18.22421638  -13.26768567   -5.44375681\n",
      "  -40.9501374    27.71587051  119.95634978   21.18636404   15.33439641\n",
      "  -85.99101201   33.52935062   24.27571199 -107.04475641   13.83155228\n",
      "   32.13706435  -37.65001301   69.7667327     8.0525032    50.46393663\n",
      "  -25.08470959   24.73604944    4.93176163   50.87932766  -41.32292333\n",
      "  -15.03482155  -24.57347723   61.79548437   64.89783402   13.86407934\n",
      "  -37.45011546   20.1532508    21.64524034   21.9913026    16.43728576\n",
      "  -16.50178296   63.02689905   74.44956507  -11.94403494   -2.71034458\n",
      "   63.61824199  -33.19824683    7.4623608   -28.31138743   78.27950312\n",
      "   76.32679019  -23.22623552    9.59571248   56.45590711  -79.25759427\n",
      "   19.0761286   -20.20640021    8.55394005  -54.27751208   67.64006427\n",
      "    6.56100641   92.9627968   -12.72749528  -32.38736286   51.54392594\n",
      "   41.78899702  -31.31391999   47.34054464  -22.35380452   -1.29193524\n",
      "   56.60097282  -77.14997403    2.30699587  -21.22913089   30.36631193\n",
      "  113.8229998    36.10962654   31.99499069   96.06950341  -61.68410184\n",
      "   24.41693844  -54.12424214   41.69755582   30.67707141   88.51940197\n",
      "   -8.20816217   -2.59832259   58.54994672   52.54708212  -33.72665522\n",
      "    8.24809341  -53.23332598   29.68324347   19.52801469   -9.29221032\n",
      "   24.69316629  -24.1648198    31.55816551  -11.69212807   67.51593002\n",
      "  -14.36093575   10.21165891   11.90453159    7.32469499   40.54869966]\n",
      "11.71139619041318 43.75783964281266\n"
     ]
    },
    {
     "data": {
      "text/plain": [
       "<Figure size 640x480 with 1 Axes>"
      ]
     },
     "metadata": {},
     "output_type": "display_data"
    }
   ],
   "source": [
    "import pandas as pd\n",
    "import numpy as np\n",
    "import matplotlib.pyplot as plt\n",
    "\n",
    "\n",
    "# 根据均值、标准差,求指定范围的正态分布概率值\n",
    "def normfun(x, mu, sigma):\n",
    "    pdf = np.exp(-((x - mu)**2)/(2*sigma**2)) / (sigma * np.sqrt(2*np.pi))\n",
    "    return pdf\n",
    "\n",
    "\n",
    "# result = np.random.randint(-65, 80, size=100)  # 最小值,最大值,数量\n",
    "result = np.random.normal(15, 44, 100)  # 均值为0.5,方差为1\n",
    "print(result)\n",
    "\n",
    "x = np.arange(min(result), max(result), 0.1)\n",
    "# 设定 y 轴，载入刚才的正态分布函数\n",
    "print(result.mean(), result.std())\n",
    "y = normfun(x, result.mean(), result.std())\n",
    "plt.plot(x, y)  # 这里画出理论的正态分布概率曲线\n",
    "\n",
    "# 这里画出实际的参数概率与取值关系\n",
    "plt.hist(result, bins=10, rwidth=0.8, density=True)  # bins个柱状图,宽度是rwidth(0~1),=1没有缝隙\n",
    "plt.title('distribution')\n",
    "plt.xlabel('temperature')\n",
    "plt.ylabel('probability')\n",
    "# 输出\n",
    "plt.show()  "
   ]
  },
  {
   "cell_type": "code",
   "execution_count": null,
   "metadata": {},
   "outputs": [],
   "source": []
  }
 ],
 "metadata": {
  "kernelspec": {
   "display_name": "Python 3",
   "language": "python",
   "name": "python3"
  },
  "language_info": {
   "codemirror_mode": {
    "name": "ipython",
    "version": 3
   },
   "file_extension": ".py",
   "mimetype": "text/x-python",
   "name": "python",
   "nbconvert_exporter": "python",
   "pygments_lexer": "ipython3",
   "version": "3.6.5"
  }
 },
 "nbformat": 4,
 "nbformat_minor": 2
}
