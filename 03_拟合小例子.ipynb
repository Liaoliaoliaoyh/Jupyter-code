{
 "cells": [
  {
   "cell_type": "code",
   "execution_count": 1,
   "metadata": {},
   "outputs": [],
   "source": [
    "import tensorflow as tf\n",
    "import numpy as np"
   ]
  },
  {
   "cell_type": "code",
   "execution_count": 15,
   "metadata": {},
   "outputs": [
    {
     "name": "stdout",
     "output_type": "stream",
     "text": [
      "0 [0.03799296, 0.06682857]\n",
      "2000 [2.1277528, 2.239821]\n",
      "4000 [2.1930957, 2.2038057]\n",
      "6000 [2.1993163, 2.200374]\n",
      "8000 [2.1998804, 2.200068]\n",
      "10000 [2.1998804, 2.200068]\n",
      "12000 [2.1998804, 2.200068]\n",
      "14000 [2.1998804, 2.200068]\n",
      "16000 [2.1998804, 2.200068]\n",
      "18000 [2.1998804, 2.200068]\n"
     ]
    }
   ],
   "source": [
    "# 样本数据\n",
    "x_data = np.random.rand(100)                                                                                   # 使用numpy生成100个随机点\n",
    "y_data = x_data*2.2 + 2.2\n",
    "\n",
    "# 构造模型\n",
    "b = tf.Variable(0.)\n",
    "k = tf.Variable(0.)                                                                                                    # 构造一个线性模型\n",
    "y = k*x_data + b         # 创建一个线性模型，b和k是需要预测的变量，使用tensorflow中的一个方法来优化这个模型，使得这个模型接近样本真实数据\n",
    "\n",
    "# 准备拟合\n",
    "loss = tf.reduce_mean(tf.square(y_data-y))                                                 # 二次代价函数 = 样本值 - 预测值 的平方 求平均\n",
    "optimizer = tf.train.GradientDescentOptimizer(0.01)                                              # 设置一个优化器 用梯度下降法 学习率为0.2\n",
    "train = optimizer.minimize(loss)                                                                                # 用优化器 最小化代价函数 \n",
    "\n",
    "# 初始化变量\n",
    "init = tf.global_variables_initializer()\n",
    "\n",
    "# 定义会话 启动默认图 跑起来\n",
    "with tf.Session() as sess:\n",
    "    sess.run(init)\n",
    "    for step in range(20000):\n",
    "        sess.run(train)\n",
    "        if step % 2000 == 0:\n",
    "            print(step,sess.run([k,b]))"
   ]
  },
  {
   "cell_type": "code",
   "execution_count": null,
   "metadata": {},
   "outputs": [],
   "source": []
  },
  {
   "cell_type": "code",
   "execution_count": null,
   "metadata": {},
   "outputs": [],
   "source": []
  }
 ],
 "metadata": {
  "kernelspec": {
   "display_name": "Python 3",
   "language": "python",
   "name": "python3"
  },
  "language_info": {
   "codemirror_mode": {
    "name": "ipython",
    "version": 3
   },
   "file_extension": ".py",
   "mimetype": "text/x-python",
   "name": "python",
   "nbconvert_exporter": "python",
   "pygments_lexer": "ipython3",
   "version": "3.6.5"
  }
 },
 "nbformat": 4,
 "nbformat_minor": 2
}
