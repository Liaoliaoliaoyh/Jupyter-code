{
 "cells": [
  {
   "cell_type": "code",
   "execution_count": null,
   "metadata": {},
   "outputs": [],
   "source": [
    "import sys\n",
    "import tensorflow as tf\n",
    " \n",
    "class tf_roc():\n",
    "    def __init__(self, predict_label_file, threshold_num, save_dir):\n",
    "        '''file format: dataid,predict_score,label\n",
    "        the predict_score should be between 0 and 1\n",
    "        the label should be 0 or 1\n",
    "        threshold_num: number of threshold will plot'''\n",
    "        #load predict_label_file to predicts and labels\n",
    "        fd = open(predict_label_file)\n",
    "        fdl = fd.readline()\n",
    "        self.predicts = []\n",
    "        self.labels = []\n",
    "        self.total = 0\n",
    "        while len(fdl) > 0:\n",
    "            val = fdl.split(',')\n",
    "            self.predicts.append(float(val[1])) \n",
    "            self.labels.append(True if int(val[2]) == 1 else False) \n",
    "            fdl = fd.readline()\n",
    "            self.total += 1\n",
    "        fd.close()\n",
    "        self.threshold_num = threshold_num\n",
    "        self.trues = 0 #total of True labels \n",
    "        self.fpr = [] #false positive\n",
    "        self.tpr = [] #true positive\n",
    "        self.ths = [] #thresholds\n",
    "        self.save_dir = save_dir\n",
    "        self.writer = tf.train.SummaryWriter(self.save_dir)\n",
    " \n",
    "    def calc(self):\n",
    "        for label in self.labels:\n",
    "            if label:\n",
    "                self.trues += 1\n",
    "        threshold_step = 1. / self.threshold_num\n",
    "        for t in range(self.threshold_num + 1):\n",
    "            th = 1 - threshold_step * t\n",
    "            tn, tp, fp, fpr, tpr = self._calc_once(th)\n",
    "            self.fpr.append(fpr)\n",
    "            self.tpr.append(tpr)\n",
    "            self.ths.append(th)\n",
    "            self._save(fpr, tpr)\n",
    "        print self.fpr\n",
    "        print self.tpr\n",
    "        print self.ths\n",
    " \n",
    "    def _save(self, fpr, tpr):\n",
    "        summt = tf.Summary()\n",
    "        summt.value.add(tag=\"roc\", simple_value = tpr)\n",
    "        self.writer.add_summary(summt, fpr * 100) #for tensorboard step drawable\n",
    "        self.writer.flush()\n",
    " \n",
    "    def _calc_once(self, t):\n",
    "        fp = 0\n",
    "        tp = 0\n",
    "        tn = 0\n",
    "        for i in range(self.total):\n",
    "            if not self.labels[i]:\n",
    "                if self.predicts[i] >= t:\n",
    "                    fp += 1\n",
    "                else:\n",
    "                    tn += 1\n",
    "            elif self.predicts[i] >= t:\n",
    "                tp += 1\n",
    "        #fpr = fp / float(fp + tn) #precision\n",
    "        fpr = fp / float(fp + tp) #detection\n",
    "        tpr = tp / float(self.trues)\n",
    "        return tn, tp, fp, fpr, tpr\n",
    " \n",
    "        \n",
    "if __name__ == '__main__':\n",
    "    predict_label_file, threshold_num, save_dir = sys.argv[1:4]\n",
    "    roc = tf_roc(predict_label_file, int(threshold_num), save_dir)\n",
    "    roc.calc()"
   ]
  },
  {
   "cell_type": "code",
   "execution_count": 1,
   "metadata": {},
   "outputs": [],
   "source": [
    "history = {'val_loss': [0.8977951119685995, 0.8337547368016737, 0.7884187211935547, 0.7588248657084059, 0.6502949876346807, 0.5817618513929432, 0.5500364927039749, 0.5134533835553575, 0.4887303586663871, 0.46494297597600126], \n",
    "     'val_dice_coef': [0.10220488961304314, 0.16624526291464767, 0.21158127884391223, 0.2411751374816415, 0.3497050101280041, 0.4182381457809744, 0.4499635081363564, 0.4865466154276811, 0.5112696388286764, 0.5350570237777871],\n",
    "     'val_IoG': [0.584741073392931, 0.7218889976455563, 0.7481760080347116, 0.7571594039427822, 0.7347311635940582, 0.7041707349748447, 0.7139273532933887, 0.688943337798975, 0.699371004198817, 0.6818132986924772], \n",
    "     'val_binary_accuracy': [0.9970687340045797, 0.9957319237720007, 0.9953867594401041, 0.9953534356478987, 0.997137661637931, 0.9978115037940014, 0.9978795544854526, 0.9982305066338901, 0.998266461251796, 0.9984511452159662], \n",
    "     'val_true_positive_rate': [0.5804133662718466, 0.7220757212275746, 0.748551621904661, 0.7580817293846744, 0.7388355313618292, 0.7037437069176258, 0.7138768152772695, 0.6878086997345946, 0.7004936887700667, 0.6837010187492973], \n",
    "     'loss': [0.8421712250087676, 0.5679116264030653, 0.5261379228167663, 0.4995725694199703, 0.4773546910478029, 0.45808270349723457, 0.44341901231328285, 0.4326638915297488, 0.42304211423356247, 0.4155008364089906],\n",
    "     'dice_coef': [0.15782877487031516, 0.4320883746863852, 0.47386207750436643, 0.5004274306670656, 0.5226453085800432, 0.5419172962446588, 0.5565809871337385, 0.5673361084942611, 0.5769578859405095, 0.5844991631528282], \n",
    "     'IoG': [0.5148078082884359, 0.3861571946540568, 0.4292971059454892, 0.4552511643051861, 0.4755379155653361, 0.4941640447033616, 0.5075442375493314, 0.5185672590754784, 0.5271924855875945, 0.533455403117615], \n",
    "     'binary_accuracy': [0.8552368027302516, 0.9981508910055727, 0.9982558631344745, 0.998333281536717, 0.998404542515045, 0.9984606501439066, 0.9985089579797823, 0.9985404912258563, 0.9985728125137625, 0.9985979440469156], \n",
    "     'true_positive_rate': [0.4804473417173332, 0.38558342738484086, 0.4289195885125844, 0.4550684023974885, 0.47564084697646075, 0.49437969156202355, 0.5078498478134773, 0.518775766840334, 0.5274872106667852, 0.5337189014404562]}"
   ]
  },
  {
   "cell_type": "code",
   "execution_count": 5,
   "metadata": {},
   "outputs": [],
   "source": [
    "history = {11111111111111111111111111111111111111111111111111111}"
   ]
  },
  {
   "cell_type": "code",
   "execution_count": 6,
   "metadata": {},
   "outputs": [],
   "source": [
    "    file = open('history.txt','w')\n",
    "    file.write(str(history))\n",
    "    file.close();\n",
    "   "
   ]
  },
  {
   "cell_type": "code",
   "execution_count": null,
   "metadata": {},
   "outputs": [],
   "source": []
  }
 ],
 "metadata": {
  "kernelspec": {
   "display_name": "Python 3",
   "language": "python",
   "name": "python3"
  },
  "language_info": {
   "codemirror_mode": {
    "name": "ipython",
    "version": 3
   },
   "file_extension": ".py",
   "mimetype": "text/x-python",
   "name": "python",
   "nbconvert_exporter": "python",
   "pygments_lexer": "ipython3",
   "version": "3.6.5"
  }
 },
 "nbformat": 4,
 "nbformat_minor": 2
}
