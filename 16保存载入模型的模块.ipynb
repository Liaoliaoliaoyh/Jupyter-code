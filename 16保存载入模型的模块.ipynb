{
 "cells": [
  {
   "cell_type": "code",
   "execution_count": 1,
   "metadata": {},
   "outputs": [],
   "source": [
    "import tensorflow as tf\n",
    "from tensorflow.examples.tutorials.mnist import input_data\n",
    "old_v = tf.logging.get_verbosity()\n",
    "tf.logging.set_verbosity(tf.logging.ERROR)"
   ]
  },
  {
   "cell_type": "code",
   "execution_count": 2,
   "metadata": {},
   "outputs": [
    {
     "name": "stdout",
     "output_type": "stream",
     "text": [
      "Extracting MNIST_data\\train-images-idx3-ubyte.gz\n",
      "Extracting MNIST_data\\train-labels-idx1-ubyte.gz\n",
      "Extracting MNIST_data\\t10k-images-idx3-ubyte.gz\n",
      "Extracting MNIST_data\\t10k-labels-idx1-ubyte.gz\n",
      "第0次大循环，测试集准确率为0.8107\n",
      "第10次大循环，测试集准确率为0.9094\n",
      "第20次大循环，测试集准确率为0.9166\n",
      "第30次大循环，测试集准确率为0.9202\n",
      "第40次大循环，测试集准确率为0.9216\n",
      "第50次大循环，测试集准确率为0.9231\n"
     ]
    }
   ],
   "source": [
    "# 载入数据集\n",
    "mnist = input_data.read_data_sets('MNIST_data', one_hot=True)\n",
    "\n",
    "# 每个批次的大小\n",
    "batch_size = 100\n",
    "n_batch = mnist.train.num_examples//batch_size\n",
    "\n",
    "# 给输入数据预留位置\n",
    "# none表示第一个维度可以是任意的长度\n",
    "x = tf.placeholder(tf.float32, shape=[None, 784])\n",
    "y = tf.placeholder(tf.float32, shape=[None, 10])\n",
    "\n",
    "# 创建无中间层的简单网络\n",
    "W = tf.Variable(tf.zeros([784, 10]))\n",
    "b = tf.Variable(tf.zeros([10]))\n",
    "Wx_plus_b = tf.matmul(x,W) + b\n",
    "\n",
    "# 预测值\n",
    "prediction = tf.nn.softmax(Wx_plus_b)\n",
    "\n",
    "# 准备拟合\n",
    "loss = tf.reduce_mean(tf.nn.softmax_cross_entropy_with_logits(labels=y,logits=prediction))\n",
    "\n",
    "train = tf.train.GradientDescentOptimizer(0.1).minimize(loss) \n",
    "\n",
    "# 初始化变量\n",
    "init = tf.global_variables_initializer()\n",
    "\n",
    "# 定义求准确率的方法\n",
    "correct_prediction = tf.equal(tf.argmax(y, 1), tf.argmax(prediction, 1))\n",
    "accuracy = tf.reduce_mean(tf.cast(correct_prediction,tf.float32))\n",
    "\n",
    "\n",
    "saver = tf.train.Saver()\n",
    "\n",
    "with tf.Session() as sess:\n",
    "    sess.run(init)\n",
    "    for epoch in range(51):                                                                                              # 总共训练21次\n",
    "        for pic in range(n_batch):                                # 每次训练 是从第n个批次里取1个数据 循环结束 所有批次中的数据被训练一次\n",
    "            pic_data,pic_tag = mnist.train.next_batch(batch_size)   # 从train集中选取batch_size个训练数据 next_batch(我觉得这是bagging 错)\n",
    "            sess.run(train,feed_dict={x:pic_data,y:pic_tag})        # 获取一个训练数据 这儿就训练一次   \n",
    "        # 每一次大循环 看一下准确率\n",
    "        if epoch % 10 == 0:\n",
    "            accuracy_rate = sess.run(accuracy,feed_dict={x:mnist.test.images,y:mnist.test.labels})\n",
    "            print('第' + str(epoch) + '次大循环，测试集准确率为' + str(accuracy_rate))\n",
    "    # 保存\n",
    "    saver.save(sess,'net/my_net.ckpt')    \n",
    "    \n",
    "# tf.logging.set_verbosity(old_v)   "
   ]
  },
  {
   "cell_type": "code",
   "execution_count": 5,
   "metadata": {},
   "outputs": [
    {
     "name": "stdout",
     "output_type": "stream",
     "text": [
      "瞎猜0.098\n",
      "使用模型0.9231\n"
     ]
    }
   ],
   "source": [
    "# 相当于对比 没有使用模型 和 使用了前面保存了的模型 的正确率\n",
    "with tf.Session() as sess:\n",
    "    sess.run(init)\n",
    "    print('瞎猜'+ str(sess.run(accuracy,feed_dict={x:mnist.test.images,y:mnist.test.labels})))\n",
    "    #载入\n",
    "    saver.restore(sess,'net/my_net.ckpt')\n",
    "    print('使用模型'+ str(sess.run(accuracy,feed_dict={x:mnist.test.images,y:mnist.test.labels})))"
   ]
  },
  {
   "cell_type": "code",
   "execution_count": null,
   "metadata": {},
   "outputs": [],
   "source": []
  }
 ],
 "metadata": {
  "kernelspec": {
   "display_name": "Python 3",
   "language": "python",
   "name": "python3"
  },
  "language_info": {
   "codemirror_mode": {
    "name": "ipython",
    "version": 3
   },
   "file_extension": ".py",
   "mimetype": "text/x-python",
   "name": "python",
   "nbconvert_exporter": "python",
   "pygments_lexer": "ipython3",
   "version": "3.6.5"
  }
 },
 "nbformat": 4,
 "nbformat_minor": 2
}
