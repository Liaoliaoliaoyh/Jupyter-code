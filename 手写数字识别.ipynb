{
 "cells": [
  {
   "cell_type": "code",
   "execution_count": 1,
   "metadata": {},
   "outputs": [],
   "source": [
    "import tensorflow as tf\n",
    "from tensorflow.examples.tutorials.mnist import input_data"
   ]
  },
  {
   "cell_type": "code",
   "execution_count": 3,
   "metadata": {
    "scrolled": true
   },
   "outputs": [
    {
     "name": "stdout",
     "output_type": "stream",
     "text": [
      "Extracting MNIST_data\\train-images-idx3-ubyte.gz\n",
      "Extracting MNIST_data\\train-labels-idx1-ubyte.gz\n",
      "Extracting MNIST_data\\t10k-images-idx3-ubyte.gz\n",
      "Extracting MNIST_data\\t10k-labels-idx1-ubyte.gz\n"
     ]
    }
   ],
   "source": [
    "# 载入数据集\n",
    "mnist = input_data.read_data_sets('MNIST_data', one_hot=True)\n",
    "\n",
    "# 每个批次的大小\n",
    "batch_size = 200\n",
    "n_batch = mnist.train.num_examples//batch_size\n",
    "\n",
    "# 给输入数据预留位置\n",
    "x = tf.placeholder(tf.float32, shape=[None, 784])\n",
    "y = tf.placeholder(tf.float32, shape=[None, 10])\n",
    "\n",
    "# 创建无中间层的简单网络\n",
    "W = tf.Variable(tf.zeros([784, 10]))\n",
    "b = tf.Variable(tf.zeros([10]))\n",
    "Wx_plus_b = tf.matmul(x,W) + b\n",
    "\n",
    "# 预测值\n",
    "prediction = tf.nn.softmax(Wx_plus_b)\n",
    "\n",
    "# 准备拟合\n",
    "loss = tf.reduce_mean(tf.square(y-prediction))                                   \n",
    "train = tf.train.GradientDescentOptimizer(0.2).minimize(loss) \n",
    "\n",
    "# 初始化变量\n",
    "init = tf.global_variables_initializer()\n",
    "\n",
    "# 定义求准确率的方法 测试一下模型的准确率\n",
    "correct_prediction = tf.equal(tf.argmax(y, 1), tf.argmax(prediction, 1))\n",
    "accuracy = tf.reduce_mean(tf.cast(correct_prediction,tf.float32))"
   ]
  },
  {
   "cell_type": "code",
   "execution_count": 4,
   "metadata": {},
   "outputs": [
    {
     "name": "stdout",
     "output_type": "stream",
     "text": [
      "第0次大循环，测试集准确率为0.7418\n",
      "第10次大循环，测试集准确率为0.8952\n",
      "第20次大循环，测试集准确率为0.9057\n",
      "第30次大循环，测试集准确率为0.9098\n",
      "第40次大循环，测试集准确率为0.9135\n",
      "第50次大循环，测试集准确率为0.9162\n",
      "第60次大循环，测试集准确率为0.9173\n",
      "第70次大循环，测试集准确率为0.9186\n",
      "第80次大循环，测试集准确率为0.9194\n",
      "第90次大循环，测试集准确率为0.9208\n",
      "第100次大循环，测试集准确率为0.9212\n",
      "第110次大循环，测试集准确率为0.9217\n",
      "第120次大循环，测试集准确率为0.923\n",
      "第130次大循环，测试集准确率为0.9236\n",
      "第140次大循环，测试集准确率为0.9237\n",
      "第150次大循环，测试集准确率为0.9248\n",
      "第160次大循环，测试集准确率为0.9246\n",
      "第170次大循环，测试集准确率为0.9252\n",
      "第180次大循环，测试集准确率为0.9251\n",
      "第190次大循环，测试集准确率为0.9261\n"
     ]
    }
   ],
   "source": [
    "with tf.Session() as sess:\n",
    "    sess.run(init)\n",
    "    for epoch in range(200):              \n",
    "        for pic in range(n_batch):                   \n",
    "            pic_data,pic_tag = mnist.train.next_batch(batch_size)\n",
    "            sess.run(train,feed_dict={x:pic_data,y:pic_tag})\n",
    "        # 每一次大循环 看一下准确率\n",
    "        if epoch % 10 == 0:\n",
    "            accuracy_rate = sess.run(accuracy,feed_dict={x:mnist.test.images,y:mnist.test.labels})\n",
    "            print('第' + str(epoch) + '次大循环，测试集准确率为' + str(accuracy_rate))"
   ]
  }
 ],
 "metadata": {
  "kernelspec": {
   "display_name": "Python 3",
   "language": "python",
   "name": "python3"
  },
  "language_info": {
   "codemirror_mode": {
    "name": "ipython",
    "version": 3
   },
   "file_extension": ".py",
   "mimetype": "text/x-python",
   "name": "python",
   "nbconvert_exporter": "python",
   "pygments_lexer": "ipython3",
   "version": "3.6.5"
  }
 },
 "nbformat": 4,
 "nbformat_minor": 2
}
